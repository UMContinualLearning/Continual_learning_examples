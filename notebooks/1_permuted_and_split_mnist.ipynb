{
 "cells": [
  {
   "cell_type": "markdown",
   "metadata": {
    "id": "fp9hbokQIxWW"
   },
   "source": [
    "# Permuted and Split MNIST: a Deep Continual Learning Example in PyTorch\n",
    "\n",
    "In this brief demo we will showcase two common *Continual Learning* benchmark often used to introduce the problem and start prototyping possible computational strategies to solve it. We will use bare Python, Numpy and *PyTorch*. In order to construct these benchmarks we will start from the the standard MNIST dataset (LeCun, 1998)!\n",
    "\n",
    "We will start with learning over the standard *MNIST* benchmark, then we will move in the actual continual learning setting  with the *Permuted MNIST* and *Split MNIST*  benchmarks. Let's have some fun! :-)\n",
    "\n",
    "\n",
    "---\n",
    "**Connecting a local runtime**\n",
    "\n",
    "In case resources are not enough for you (no GPU for example), you can always connect another [local runtime](https://research.google.com/colaboratory/local-runtimes.html) or to a [runtime on a Google Compute Engine instance](https://research.google.com/colaboratory/local-runtimes.html).\n",
    "\n",
    "This notebook has been designed to run fast enough on simple CPUs so you shouldn't find any trouble here, using a free *hosted account*."
   ]
  },
  {
   "cell_type": "markdown",
   "metadata": {
    "id": "z6RUp96FLuMd"
   },
   "source": [
    "# Google Colaboratory\n",
    "\n",
    "First of all, take a moment to look around and discover Google Colab if you haven't before! You can run the commands below to understand how much resources you're using and are still available. Then consider also that you can also connect your Google Drive for additional space or for easily loading your own files.\n",
    "\n",
    "You can always reset the entire VM with \"*Runtime > Reset all runtime*\" in case of difficulty. Make also sure you're using the GPU or TPU in the same  tab (\"*Runtime > Change runtime type*\")."
   ]
  },
  {
   "cell_type": "code",
   "execution_count": 1,
   "metadata": {
    "colab": {
     "base_uri": "https://localhost:8080/"
    },
    "id": "pPViRmMBqbJ2",
    "outputId": "da8e256d-9a74-43c4-aae6-a4ee45d43ab0"
   },
   "outputs": [
    {
     "name": "stdout",
     "output_type": "stream",
     "text": [
      "              total        used        free      shared  buff/cache   available\n",
      "Mem:          15925        3688        6701          54        5534       11855\n",
      "Swap:         30516           0       30516\n",
      "Filesystem      Size  Used Avail Use% Mounted on\n",
      "udev            7.8G     0  7.8G   0% /dev\n",
      "tmpfs           1.6G  2.0M  1.6G   1% /run\n",
      "/dev/sdb5        46G   20G   24G  47% /\n",
      "tmpfs           7.8G  800K  7.8G   1% /dev/shm\n",
      "tmpfs           5.0M  4.0K  5.0M   1% /run/lock\n",
      "tmpfs           7.8G     0  7.8G   0% /sys/fs/cgroup\n",
      "/dev/loop0      234M  234M     0 100% /snap/cherrytree/59\n",
      "/dev/loop1      304M  304M     0 100% /snap/wine-platform-5-stable/18\n",
      "/dev/loop2      211M  211M     0 100% /snap/eclipse/48\n",
      "/dev/loop3      165M  165M     0 100% /snap/gnome-3-28-1804/161\n",
      "/dev/loop4       20M   20M     0 100% /snap/photoscape/68\n",
      "/dev/loop5      2.7M  2.7M     0 100% /snap/gnome-system-monitor/178\n",
      "/dev/loop6      768K  768K     0 100% /snap/gnome-characters/761\n",
      "/dev/loop7      640K  640K     0 100% /snap/gnome-logs/112\n",
      "/dev/loop8       92M   92M     0 100% /snap/gtk-common-themes/1535\n",
      "/dev/loop9      256K  256K     0 100% /snap/gtk2-common-themes/13\n",
      "/dev/loop10     2.5M  2.5M     0 100% /snap/gnome-calculator/884\n",
      "/dev/loop11      71M   71M     0 100% /snap/core22/188\n",
      "/dev/loop12     115M  115M     0 100% /snap/core/13741\n",
      "/dev/loop13     224M  224M     0 100% /snap/code/108\n",
      "/dev/loop14     190M  190M     0 100% /snap/audacity/1032\n",
      "/dev/loop18     401M  401M     0 100% /snap/gnome-3-38-2004/112\n",
      "/dev/loop15     296M  296M     0 100% /snap/vlc/2344\n",
      "/dev/loop16     347M  347M     0 100% /snap/wine-platform-runtime/316\n",
      "/dev/loop17      64M   64M     0 100% /snap/core20/1623\n",
      "/dev/loop19      71M   71M     0 100% /snap/core22/275\n",
      "/dev/loop21     250M  250M     0 100% /snap/audacity/1051\n",
      "/dev/loop28     219M  219M     0 100% /snap/gnome-3-34-1804/77\n",
      "/dev/loop23     2.7M  2.7M     0 100% /snap/gnome-calculator/920\n",
      "/dev/loop25      56M   56M     0 100% /snap/core18/2566\n",
      "/dev/loop20     124M  124M     0 100% /snap/cherrytree/58\n",
      "/dev/loop22     347M  347M     0 100% /snap/gnome-3-38-2004/115\n",
      "/dev/loop26     143M  143M     0 100% /snap/chromium/2105\n",
      "/dev/loop27     315M  315M     0 100% /snap/eclipse/61\n",
      "/dev/loop29      82M   82M     0 100% /snap/gtk-common-themes/1534\n",
      "/dev/loop24     224M  224M     0 100% /snap/code/107\n",
      "/dev/loop31      56M   56M     0 100% /snap/core18/2560\n",
      "/dev/loop30      62M   62M     0 100% /snap/core20/1611\n",
      "/dev/loop33     161M  161M     0 100% /snap/gnome-3-28-1804/116\n",
      "/dev/loop32     128K  128K     0 100% /snap/bare/5\n",
      "/dev/loop36     640K  640K     0 100% /snap/gnome-logs/106\n",
      "/dev/loop35     768K  768K     0 100% /snap/gnome-characters/741\n",
      "/dev/loop37     2.7M  2.7M     0 100% /snap/gnome-system-monitor/174\n",
      "/dev/loop38     114M  114M     0 100% /snap/core/13425\n",
      "/dev/loop34     143M  143M     0 100% /snap/chromium/2082\n",
      "/dev/loop39     415M  415M     0 100% /snap/gnome-42-2204/29\n",
      "/dev/sdb7       405G  295G   90G  77% /home\n",
      "tmpfs           1.6G   84K  1.6G   1% /run/user/1000\n",
      "Mon Sep 26 11:11:04 2022       \n",
      "+-----------------------------------------------------------------------------+\n",
      "| NVIDIA-SMI 390.154                Driver Version: 390.154                   |\n",
      "|-------------------------------+----------------------+----------------------+\n",
      "| GPU  Name        Persistence-M| Bus-Id        Disp.A | Volatile Uncorr. ECC |\n",
      "| Fan  Temp  Perf  Pwr:Usage/Cap|         Memory-Usage | GPU-Util  Compute M. |\n",
      "|===============================+======================+======================|\n",
      "|   0  GeForce GT 755M     Off  | 00000000:01:00.0 N/A |                  N/A |\n",
      "| N/A   61C    P0    N/A /  N/A |    160MiB /  2002MiB |     N/A      Default |\n",
      "+-------------------------------+----------------------+----------------------+\n",
      "                                                                               \n",
      "+-----------------------------------------------------------------------------+\n",
      "| Processes:                                                       GPU Memory |\n",
      "|  GPU       PID   Type   Process name                             Usage      |\n",
      "|=============================================================================|\n",
      "|    0                    Not Supported                                       |\n",
      "+-----------------------------------------------------------------------------+\n"
     ]
    }
   ],
   "source": [
    "!free -m\n",
    "!df -h\n",
    "!nvidia-smi"
   ]
  },
  {
   "cell_type": "markdown",
   "metadata": {
    "id": "jt_PxOYPmxp_"
   },
   "source": [
    "**Questions to explore:**\n",
    "\n",
    "*   How to connect your Google Drive with Google Colab?\n",
    "*   How to import a new notebook and save it to your GDrive?\n",
    "*   How to use files which are contained in your GDrive?\n",
    "\n",
    "Some tips here: https://medium.com/deep-learning-turkey/google-colab-free-gpu-tutorial-e113627b9f5d\n"
   ]
  },
  {
   "cell_type": "markdown",
   "metadata": {
    "id": "i74kZQufNv5d"
   },
   "source": [
    "Ok, if you are on Colab PyTorch is already installed! Let's import it and see if it can find the GPU:"
   ]
  },
  {
   "cell_type": "code",
   "execution_count": 2,
   "metadata": {
    "colab": {
     "base_uri": "https://localhost:8080/"
    },
    "id": "hv7FUJ2Wrd_l",
    "outputId": "7374c015-0482-4714-8ed6-24cc184bbe69"
   },
   "outputs": [
    {
     "data": {
      "text/plain": [
       "False"
      ]
     },
     "execution_count": 2,
     "metadata": {},
     "output_type": "execute_result"
    }
   ],
   "source": [
    "import torch\n",
    "torch.cuda.is_available()"
   ]
  },
  {
   "cell_type": "markdown",
   "metadata": {
    "id": "JuSqVkPnN7iT"
   },
   "source": [
    "That's great, let us import then a few libraries, which we'll be using during this tutorial!"
   ]
  },
  {
   "cell_type": "code",
   "execution_count": 3,
   "metadata": {
    "id": "w7AxhUWe68vT"
   },
   "outputs": [],
   "source": [
    "import torch\n",
    "import torch.nn as nn\n",
    "import torchvision.datasets as datasets\n",
    "import torchvision.transforms as transforms\n",
    "import torch.optim as optim\n",
    "import torch.nn.functional as F\n",
    "import numpy as np\n",
    "import matplotlib.pyplot as plt"
   ]
  },
  {
   "cell_type": "markdown",
   "metadata": {
    "id": "rv89m9nBPXSh"
   },
   "source": [
    "# MNIST: Digits recognition with PyTorch \n",
    "\n",
    "All right, let's start then making sure we all know the basics! Let's recognize the ten handwritten digits learning from 60.000, 28x28 grayscale images.\n",
    "For simplicity let's import a loading script we have already developed inside the **Continual AI Colab** repository:"
   ]
  },
  {
   "cell_type": "code",
   "execution_count": 4,
   "metadata": {
    "colab": {
     "base_uri": "https://localhost:8080/"
    },
    "id": "yKWbcnh474X3",
    "outputId": "ff65ad14-f1db-4b5e-c1f0-242110813fa8"
   },
   "outputs": [
    {
     "name": "stdout",
     "output_type": "stream",
     "text": [
      "fatal: destination path 'continualai/colab' already exists and is not an empty directory.\r\n"
     ]
    }
   ],
   "source": [
    "!git clone https://github.com/ContinualAI/colab.git continualai/colab"
   ]
  },
  {
   "cell_type": "code",
   "execution_count": 5,
   "metadata": {
    "colab": {
     "base_uri": "https://localhost:8080/"
    },
    "id": "x3BFVukM_y8i",
    "outputId": "e3c9a181-6cbd-44e1-d681-beb090625e31"
   },
   "outputs": [
    {
     "name": "stdout",
     "output_type": "stream",
     "text": [
      "Files already downloaded!\n"
     ]
    }
   ],
   "source": [
    "from continualai.colab.scripts import mnist\n",
    "mnist.init()"
   ]
  },
  {
   "cell_type": "code",
   "execution_count": 6,
   "metadata": {
    "colab": {
     "base_uri": "https://localhost:8080/"
    },
    "id": "6jIk6-G6AhWi",
    "outputId": "f6114ff9-6bd6-4c01-b4fb-7f164dc6a5de"
   },
   "outputs": [
    {
     "name": "stdout",
     "output_type": "stream",
     "text": [
      "x_train dim and type:  (60000, 1, 28, 28) float32\n",
      "t_train dim and type:  (60000,) uint8\n",
      "x_test dim and type:  (10000, 1, 28, 28) float32\n",
      "t_test dim and type:  (10000,) uint8\n"
     ]
    }
   ],
   "source": [
    "x_train, t_train, x_test, t_test = mnist.load()\n",
    "\n",
    "print(\"x_train dim and type: \", x_train.shape, x_train.dtype)\n",
    "print(\"t_train dim and type: \", t_train.shape, t_train.dtype)\n",
    "print(\"x_test dim and type: \", x_test.shape, x_test.dtype)\n",
    "print(\"t_test dim and type: \", t_test.shape, t_test.dtype)"
   ]
  },
  {
   "cell_type": "markdown",
   "metadata": {
    "id": "XEWG2PmbVvb7"
   },
   "source": [
    "Let's take a look at the actual images!"
   ]
  },
  {
   "cell_type": "code",
   "execution_count": 7,
   "metadata": {
    "colab": {
     "base_uri": "https://localhost:8080/",
     "height": 248
    },
    "id": "RyIuYAw8AuO6",
    "outputId": "07106299-84cf-4cef-b9ba-802d370a6fe9"
   },
   "outputs": [
    {
     "data": {
      "image/png": "[encoded data removed]",
      "text/plain": [
       "<Figure size 432x288 with 4 Axes>"
      ]
     },
     "metadata": {
      "needs_background": "light"
     },
     "output_type": "display_data"
    }
   ],
   "source": [
    "f, axarr = plt.subplots(2,2)\n",
    "axarr[0,0].imshow(x_train[1, 0], cmap=\"gray\")\n",
    "axarr[0,1].imshow(x_train[2, 0], cmap=\"gray\")\n",
    "axarr[1,0].imshow(x_train[3, 0], cmap=\"gray\")\n",
    "axarr[1,1].imshow(x_train[4, 0], cmap=\"gray\")\n",
    "np.vectorize(lambda ax:ax.axis('off'))(axarr);"
   ]
  },
  {
   "cell_type": "markdown",
   "metadata": {
    "id": "baEsU4PGXsgS"
   },
   "source": [
    "Good! Let's now set up a few general setting before using torch..."
   ]
  },
  {
   "cell_type": "code",
   "execution_count": 8,
   "metadata": {
    "id": "ztZAPQNXZ4ll"
   },
   "outputs": [],
   "source": [
    "# switch to False to use CPU\n",
    "use_cuda = True\n",
    "\n",
    "use_cuda = use_cuda and torch.cuda.is_available()\n",
    "device = torch.device(\"cuda\" if use_cuda else \"cpu\");\n",
    "torch.manual_seed(1);"
   ]
  },
  {
   "cell_type": "markdown",
   "metadata": {
    "id": "0Ek0mErIac6n"
   },
   "source": [
    "... and define our first conv-net! We will use 3 layers of convolutions and two fully connected layers:"
   ]
  },
  {
   "cell_type": "code",
   "execution_count": 9,
   "metadata": {
    "id": "ONMdybG4Be0z"
   },
   "outputs": [],
   "source": [
    "class Net(nn.Module):\n",
    "    def __init__(self):\n",
    "        super(Net, self).__init__()\n",
    "        self.conv1 = nn.Conv2d(1, 10, kernel_size=5)\n",
    "        self.conv2 = nn.Conv2d(10, 20, kernel_size=5)\n",
    "        self.conv2_drop = nn.Dropout2d()\n",
    "        self.fc1 = nn.Linear(320, 50)\n",
    "        self.fc2 = nn.Linear(50, 10)\n",
    "\n",
    "    def forward(self, x):\n",
    "        x = F.relu(F.max_pool2d(self.conv1(x), 2))\n",
    "        x = F.relu(F.max_pool2d(self.conv2_drop(self.conv2(x)), 2))\n",
    "        x = x.view(-1, 320)\n",
    "        x = F.relu(self.fc1(x))\n",
    "        x = F.dropout(x, training=self.training)\n",
    "        x = self.fc2(x)\n",
    "        return x"
   ]
  },
  {
   "cell_type": "markdown",
   "metadata": {
    "id": "p9S6a-MlYAsu"
   },
   "source": [
    "Then we can write the *train* and *test* functions. Note that for simplicity here we are not using PyTorch [Data Loaders](https://pytorch.org/tutorials/beginner/data_loading_tutorial.html) but this is not recommended for efficiency."
   ]
  },
  {
   "cell_type": "code",
   "execution_count": 10,
   "metadata": {
    "id": "HGJJfXhJB-zk"
   },
   "outputs": [],
   "source": [
    "def train(model, device, x_train, t_train, optimizer, epoch):\n",
    "    model.train()\n",
    "    \n",
    "    for start in range(0, len(t_train)-1, 256):\n",
    "      end = start + 256\n",
    "      x, y = torch.from_numpy(x_train[start:end]), torch.from_numpy(t_train[start:end]).long()\n",
    "      x, y = x.to(device), y.to(device)\n",
    "      \n",
    "      optimizer.zero_grad()\n",
    "\n",
    "      output = model(x)\n",
    "      loss = F.cross_entropy(output, y)\n",
    "      loss.backward()\n",
    "      optimizer.step()\n",
    "      #print(loss.item())\n",
    "    print('Train Epoch: {} \\tLoss: {:.6f}'.format(epoch, loss.item()))\n",
    "\n",
    "def test(model, device, x_test, t_test):\n",
    "    model.eval()\n",
    "    test_loss = 0\n",
    "    correct = 0\n",
    "    for start in range(0, len(t_test)-1, 256):\n",
    "      end = start + 256\n",
    "      with torch.no_grad():\n",
    "        x, y = torch.from_numpy(x_test[start:end]), torch.from_numpy(t_test[start:end]).long()\n",
    "        x, y = x.to(device), y.to(device)\n",
    "        output = model(x)\n",
    "        test_loss += F.cross_entropy(output, y).item() # sum up batch loss\n",
    "        pred = output.max(1, keepdim=True)[1] # get the index of the max logit\n",
    "        correct += pred.eq(y.view_as(pred)).sum().item()\n",
    "\n",
    "    test_loss /= len(t_test)\n",
    "    print('Test set: Average loss: {:.4f}, Accuracy: {}/{} ({:.0f}%)\\n'.format(\n",
    "        test_loss, correct, len(t_test),\n",
    "        100. * correct / len(t_test)))\n",
    "    return 100. * correct / len(t_test)"
   ]
  },
  {
   "cell_type": "markdown",
   "metadata": {
    "id": "IxIISdDPaqb9"
   },
   "source": [
    "Then we are ready to instantiate our model and start the training!"
   ]
  },
  {
   "cell_type": "code",
   "execution_count": 11,
   "metadata": {
    "id": "1cJURe0JCFh8"
   },
   "outputs": [],
   "source": [
    "model = Net().to(device)\n",
    "optimizer = optim.SGD(model.parameters(), lr=0.01, momentum=0.9)"
   ]
  },
  {
   "cell_type": "code",
   "execution_count": 12,
   "metadata": {
    "colab": {
     "base_uri": "https://localhost:8080/"
    },
    "id": "BlhVt8vylpUv",
    "outputId": "5ffc387f-3083-4b24-cf78-861577f6e424"
   },
   "outputs": [
    {
     "name": "stdout",
     "output_type": "stream",
     "text": [
      "Train Epoch: 1 \tLoss: 0.642091\n",
      "Test set: Average loss: 0.0013, Accuracy: 9018/10000 (90%)\n",
      "\n",
      "Train Epoch: 2 \tLoss: 0.395983\n",
      "Test set: Average loss: 0.0007, Accuracy: 9433/10000 (94%)\n",
      "\n"
     ]
    }
   ],
   "source": [
    "for epoch in range(1, 3):\n",
    "  train(model, device, x_train, t_train, optimizer, epoch)\n",
    "  test(model, device, x_test, t_test)"
   ]
  },
  {
   "cell_type": "markdown",
   "metadata": {
    "id": "7qwh4T5Va86-"
   },
   "source": [
    "Wow! 94% accuracy in such a short time. \n",
    "\n",
    "**Questions to explore:**\n",
    "\n",
    "*   Can you find a better parametrization to improve the final accuracy?\n",
    "*   Can you change the network architecture to improve the final accuracy?\n",
    "*   Can you achieve the same performances with a smaller architecture?\n",
    "*   What's the difference in accuracy if you change convolutions with fully connected layers?\n",
    "\n",
    "Some tips here: http://rodrigob.github.io/are_we_there_yet/build/classification_datasets_results.html#4d4e495354"
   ]
  },
  {
   "cell_type": "markdown",
   "metadata": {
    "id": "2dn-5gOGq08g"
   },
   "source": [
    "# Permuted MNIST\n",
    "\n",
    "But what if now we want we the same model being able to solve a new task we encounter over time like a permuted version of the same MNIST? Let's define our custom function to permute it!"
   ]
  },
  {
   "cell_type": "code",
   "execution_count": 13,
   "metadata": {
    "id": "6Xq_4UvjgXPQ"
   },
   "outputs": [],
   "source": [
    "def permute_mnist(mnist, seed):\n",
    "    \"\"\" Given the training set, permute pixels of each img the same way. \"\"\"\n",
    "\n",
    "    np.random.seed(seed)\n",
    "    print(\"starting permutation...\")\n",
    "    h = w = 28\n",
    "    perm_inds = list(range(h*w))\n",
    "    np.random.shuffle(perm_inds)\n",
    "    # print(perm_inds)\n",
    "    perm_mnist = []\n",
    "    for set in mnist:\n",
    "        num_img = set.shape[0]\n",
    "        flat_set = set.reshape(num_img, w * h)\n",
    "        perm_mnist.append(flat_set[:, perm_inds].reshape(num_img, 1, w, h))\n",
    "    print(\"done.\")\n",
    "    return perm_mnist"
   ]
  },
  {
   "cell_type": "code",
   "execution_count": 14,
   "metadata": {
    "colab": {
     "base_uri": "https://localhost:8080/"
    },
    "id": "4xG5LFwLgkpu",
    "outputId": "398afb1c-4dea-421d-cab0-66b7587d49c8"
   },
   "outputs": [
    {
     "name": "stdout",
     "output_type": "stream",
     "text": [
      "starting permutation...\n",
      "done.\n"
     ]
    }
   ],
   "source": [
    "x_train2, x_test2 = permute_mnist([x_train, x_test], 0)"
   ]
  },
  {
   "cell_type": "code",
   "execution_count": 15,
   "metadata": {
    "colab": {
     "base_uri": "https://localhost:8080/",
     "height": 183
    },
    "id": "LYBa_Gedh_do",
    "outputId": "183cca92-ea04-414c-e77e-942fef2162bd"
   },
   "outputs": [
    {
     "data": {
      "image/png": "[encoded data removed]",
      "text/plain": [
       "<Figure size 432x288 with 2 Axes>"
      ]
     },
     "metadata": {
      "needs_background": "light"
     },
     "output_type": "display_data"
    }
   ],
   "source": [
    "f, axarr = plt.subplots(1,2)\n",
    "axarr[0].imshow(x_train[1, 0], cmap=\"gray\")\n",
    "axarr[1].imshow(x_train2[2, 0], cmap=\"gray\")\n",
    "np.vectorize(lambda ax:ax.axis('off'))(axarr);"
   ]
  },
  {
   "cell_type": "markdown",
   "metadata": {
    "id": "46wHcbNAchH-"
   },
   "source": [
    "Amazing. Now let's see how our pre-trained model is working on both the original and the permuted MNIST dataset:"
   ]
  },
  {
   "cell_type": "code",
   "execution_count": 16,
   "metadata": {
    "colab": {
     "base_uri": "https://localhost:8080/"
    },
    "id": "Sxusb8s3itli",
    "outputId": "e9af3f91-2358-4fc4-c5a5-d209d171dd71"
   },
   "outputs": [
    {
     "name": "stdout",
     "output_type": "stream",
     "text": [
      "Testing on the first task:\n",
      "Test set: Average loss: 0.0007, Accuracy: 9433/10000 (94%)\n",
      "\n",
      "Testing on the second task:\n",
      "Test set: Average loss: 0.0108, Accuracy: 1072/10000 (11%)\n",
      "\n"
     ]
    }
   ],
   "source": [
    "print(\"Testing on the first task:\")\n",
    "test(model, device, x_test, t_test)\n",
    "\n",
    "print(\"Testing on the second task:\")\n",
    "test(model, device, x_test2, t_test);"
   ]
  },
  {
   "cell_type": "markdown",
   "metadata": {
    "id": "0pHMg4G_dHFY"
   },
   "source": [
    "Mmmh... that's pretty bad, our model cannot generalize to this apparently very different new task! Well, we can just finetune our model using the new permuted training set!"
   ]
  },
  {
   "cell_type": "code",
   "execution_count": 17,
   "metadata": {
    "colab": {
     "base_uri": "https://localhost:8080/"
    },
    "id": "J5PtR8Gqib00",
    "outputId": "5886261f-3a1a-44b9-dc84-85e9e1e89cd3"
   },
   "outputs": [
    {
     "name": "stdout",
     "output_type": "stream",
     "text": [
      "Train Epoch: 1 \tLoss: 1.591063\n",
      "Test set: Average loss: 0.0032, Accuracy: 7367/10000 (74%)\n",
      "\n",
      "Train Epoch: 2 \tLoss: 1.264862\n",
      "Test set: Average loss: 0.0022, Accuracy: 8273/10000 (83%)\n",
      "\n"
     ]
    }
   ],
   "source": [
    "for epoch in range(1, 3):\n",
    "  train(model, device, x_train2, t_train, optimizer, epoch)\n",
    "  test(model, device, x_test2, t_test)"
   ]
  },
  {
   "cell_type": "code",
   "execution_count": 18,
   "metadata": {
    "colab": {
     "base_uri": "https://localhost:8080/"
    },
    "id": "ML7Evzb9jPAZ",
    "outputId": "e419bca6-e07f-4a3c-d7fe-2cb64e950d2e"
   },
   "outputs": [
    {
     "name": "stdout",
     "output_type": "stream",
     "text": [
      "Testing on the first task:\n",
      "Test set: Average loss: 0.0224, Accuracy: 2456/10000 (25%)\n",
      "\n",
      "Testing on the second task:\n",
      "Test set: Average loss: 0.0022, Accuracy: 8273/10000 (83%)\n",
      "\n"
     ]
    }
   ],
   "source": [
    "print(\"Testing on the first task:\")\n",
    "test(model, device, x_test, t_test)\n",
    "\n",
    "print(\"Testing on the second task:\")\n",
    "test(model, device, x_test2, t_test);"
   ]
  },
  {
   "cell_type": "markdown",
   "metadata": {
    "id": "0UZ6FBuHdm7N"
   },
   "source": [
    "This is very annoying! Now we are not able to solve the original MNIST task anymore! :-( This is the phenomenon known in literature as **Catastrophic Forgetting**! In the following section we well compare three basic baselines for continual learning (and trying to not forget!)\n",
    "\n",
    "**Questions to explore:**\n",
    "\n",
    "*   When the permuted MNIST benchmark has been firstly introduced? \n",
    "*   Can simple Dropout and Regularization techniques reduce forgetting?\n",
    "*   In the permuted MNIST task, do convolutions still help increasing the accuracy?\n",
    "\n",
    "Some tips here: https://papers.nips.cc/paper/5059-compete-to-compute"
   ]
  },
  {
   "cell_type": "markdown",
   "metadata": {
    "id": "9rUgLpUakTy6"
   },
   "source": [
    "## Naive Continual Learning by Finetuning\n",
    "\n",
    "Let us now try to learn continuously with just finetuning and see what we get.\n",
    "We will build a 3-tasks Permuted MNIST benchmark. Finally we will plot our accuracy results at the end of every task. Let's start by defining our 3 tasks with the function we have already introduced before:\n",
    "\n"
   ]
  },
  {
   "cell_type": "code",
   "execution_count": 19,
   "metadata": {
    "colab": {
     "base_uri": "https://localhost:8080/"
    },
    "id": "Yu0T_V24joGY",
    "outputId": "0799a0e1-7242-408e-f107-fb45554b30cb"
   },
   "outputs": [
    {
     "name": "stdout",
     "output_type": "stream",
     "text": [
      "starting permutation...\n",
      "done.\n",
      "starting permutation...\n",
      "done.\n"
     ]
    }
   ],
   "source": [
    "# task 1\n",
    "task_1 = [(x_train, t_train), (x_test, t_test)]\n",
    "\n",
    "# task 2\n",
    "x_train2, x_test2 = permute_mnist([x_train, x_test], 1)\n",
    "task_2 = [(x_train2, t_train), (x_test2, t_test)]\n",
    "\n",
    "# task 3\n",
    "x_train3, x_test3 = permute_mnist([x_train, x_test], 2)\n",
    "task_3 = [(x_train3, t_train), (x_test3, t_test)]\n",
    "\n",
    "# task list\n",
    "tasks = [task_1, task_2, task_3]"
   ]
  },
  {
   "cell_type": "code",
   "execution_count": 20,
   "metadata": {
    "id": "gzFEA5F8pI_O"
   },
   "outputs": [],
   "source": [
    "model = Net().to(device)\n",
    "optimizer = optim.SGD(model.parameters(), lr=0.01, momentum=0.9)"
   ]
  },
  {
   "cell_type": "code",
   "execution_count": 21,
   "metadata": {
    "colab": {
     "base_uri": "https://localhost:8080/"
    },
    "id": "dLU6KdIbnLMN",
    "outputId": "ff46575f-3f38-4a53-bd0c-db68a034bfb5"
   },
   "outputs": [
    {
     "name": "stdout",
     "output_type": "stream",
     "text": [
      "Training on task:  0\n",
      "Train Epoch: 1 \tLoss: 0.628392\n",
      "Testing on task:  0\n",
      "Test set: Average loss: 0.0012, Accuracy: 9034/10000 (90%)\n",
      "\n",
      "Testing on task:  1\n",
      "Test set: Average loss: 0.0115, Accuracy: 568/10000 (6%)\n",
      "\n",
      "Testing on task:  2\n",
      "Test set: Average loss: 0.0102, Accuracy: 1127/10000 (11%)\n",
      "\n",
      "Avg acc:  35.763333333333335\n",
      "Training on task:  1\n",
      "Train Epoch: 1 \tLoss: 1.642073\n",
      "Testing on task:  0\n",
      "Test set: Average loss: 0.0221, Accuracy: 1784/10000 (18%)\n",
      "\n",
      "Testing on task:  1\n",
      "Test set: Average loss: 0.0045, Accuracy: 6782/10000 (68%)\n",
      "\n",
      "Testing on task:  2\n",
      "Test set: Average loss: 0.0117, Accuracy: 1262/10000 (13%)\n",
      "\n",
      "Avg acc:  32.76\n",
      "Training on task:  2\n",
      "Train Epoch: 1 \tLoss: 1.717480\n",
      "Testing on task:  0\n",
      "Test set: Average loss: 0.0223, Accuracy: 1480/10000 (15%)\n",
      "\n",
      "Testing on task:  1\n",
      "Test set: Average loss: 0.0080, Accuracy: 2894/10000 (29%)\n",
      "\n",
      "Testing on task:  2\n",
      "Test set: Average loss: 0.0043, Accuracy: 6819/10000 (68%)\n",
      "\n",
      "Avg acc:  37.31\n"
     ]
    }
   ],
   "source": [
    "naive_accs = []\n",
    "\n",
    "for id, task in enumerate(tasks):\n",
    "  avg_acc = 0\n",
    "  print(\"Training on task: \", id)\n",
    "  \n",
    "  (x_train, t_train), _ = task\n",
    "  \n",
    "  for epoch in range(1, 2):\n",
    "    train(model, device, x_train, t_train, optimizer, epoch)\n",
    "    \n",
    "  for id_test, task in enumerate(tasks):\n",
    "    print(\"Testing on task: \", id_test)\n",
    "    _, (x_test, t_test) = task\n",
    "    acc = test(model, device, x_test, t_test)\n",
    "    avg_acc = avg_acc + acc \n",
    "  \n",
    "  naive_accs.append(avg_acc / 3)\n",
    "  print(\"Avg acc: \", avg_acc / 3)\n",
    "  "
   ]
  },
  {
   "cell_type": "markdown",
   "metadata": {
    "id": "ANJfdFD3s0oT"
   },
   "source": [
    "**Questions to explore:**\n",
    "\n",
    "*   Does the order of the tasks effect the final results? \n",
    "\n",
    "Some tips here: http://proceedings.mlr.press/v78/lomonaco17a/lomonaco17a.pdf"
   ]
  },
  {
   "cell_type": "markdown",
   "metadata": {
    "id": "lCK0EYT-pJa8"
   },
   "source": [
    "## Cumulative Strategy\n",
    "\n",
    "Another simple CL idea is to carry on *all* or *part* of the previously encountered examples (of the previous tasks), shuffling them with the data of the current task. Using *all* the past data is near to the optimal performance we can desire at the end of the task sequence but at the expense of much bigger memory usage.\n",
    "\n",
    "Let's start by defining a function to shuffle our data:\n",
    "\n"
   ]
  },
  {
   "cell_type": "code",
   "execution_count": 22,
   "metadata": {
    "id": "FdWpT2jhfu3o"
   },
   "outputs": [],
   "source": [
    "def shuffle_in_unison(dataset, seed, in_place=False):\n",
    "    \"\"\" Shuffle two (or more) list in unison. \"\"\"\n",
    "\n",
    "    np.random.seed(seed)\n",
    "    rng_state = np.random.get_state()\n",
    "    new_dataset = []\n",
    "    for x in dataset:\n",
    "        if in_place:\n",
    "            np.random.shuffle(x)\n",
    "        else:\n",
    "            new_dataset.append(np.random.permutation(x))\n",
    "        np.random.set_state(rng_state)\n",
    "\n",
    "    if not in_place:\n",
    "        return new_dataset"
   ]
  },
  {
   "cell_type": "markdown",
   "metadata": {
    "id": "94hg1UrtqFmT"
   },
   "source": [
    "Now we can reset the model and optimizer and run our training over the tasks sequence:"
   ]
  },
  {
   "cell_type": "code",
   "execution_count": 23,
   "metadata": {
    "id": "62TY0Ajgbsgk"
   },
   "outputs": [],
   "source": [
    "model = Net().to(device)\n",
    "optimizer = optim.SGD(model.parameters(), lr=0.01, momentum=0.9)"
   ]
  },
  {
   "cell_type": "code",
   "execution_count": 24,
   "metadata": {
    "colab": {
     "base_uri": "https://localhost:8080/"
    },
    "id": "y_No-qvDbuZi",
    "outputId": "4406de47-ca62-4a6d-a669-a03c4fe6875d"
   },
   "outputs": [
    {
     "name": "stdout",
     "output_type": "stream",
     "text": [
      "Training on task:  0\n",
      "Train Epoch: 1 \tLoss: 0.586831\n",
      "Testing on task:  0\n",
      "Test set: Average loss: 0.0012, Accuracy: 9080/10000 (91%)\n",
      "\n",
      "Testing on task:  1\n",
      "Test set: Average loss: 0.0111, Accuracy: 770/10000 (8%)\n",
      "\n",
      "Testing on task:  2\n",
      "Test set: Average loss: 0.0099, Accuracy: 1258/10000 (13%)\n",
      "\n",
      "Avg acc:  37.026666666666664\n",
      "Training on task:  1\n",
      "Train Epoch: 1 \tLoss: 0.836288\n",
      "Testing on task:  0\n",
      "Test set: Average loss: 0.0008, Accuracy: 9403/10000 (94%)\n",
      "\n",
      "Testing on task:  1\n",
      "Test set: Average loss: 0.0036, Accuracy: 7436/10000 (74%)\n",
      "\n",
      "Testing on task:  2\n",
      "Test set: Average loss: 0.0102, Accuracy: 1281/10000 (13%)\n",
      "\n",
      "Avg acc:  60.4\n",
      "Training on task:  2\n",
      "Train Epoch: 1 \tLoss: 0.674825\n",
      "Testing on task:  0\n",
      "Test set: Average loss: 0.0006, Accuracy: 9514/10000 (95%)\n",
      "\n",
      "Testing on task:  1\n",
      "Test set: Average loss: 0.0022, Accuracy: 8359/10000 (84%)\n",
      "\n",
      "Testing on task:  2\n",
      "Test set: Average loss: 0.0027, Accuracy: 8061/10000 (81%)\n",
      "\n",
      "Avg acc:  86.44666666666667\n"
     ]
    }
   ],
   "source": [
    "cumul_accs = []\n",
    "for id, task in enumerate(tasks):\n",
    "  avg_acc = 0\n",
    "  print(\"Training on task: \", id)\n",
    "  \n",
    "  (x_train, t_train), _ = task\n",
    "  \n",
    "  # for previous task\n",
    "  for i in range(id):\n",
    "    (past_x_train, past_t_train), _ = tasks[i]\n",
    "    x_train = np.concatenate((x_train, past_x_train))\n",
    "    t_train = np.concatenate((t_train, past_t_train))\n",
    "  \n",
    "  x_train, t_train = shuffle_in_unison([x_train, t_train], 0)\n",
    "  \n",
    "  for epoch in range(1, 2):\n",
    "    train(model, device, x_train, t_train, optimizer, epoch)\n",
    "    \n",
    "  for id_test, task in enumerate(tasks):\n",
    "    print(\"Testing on task: \", id_test)\n",
    "    _, (x_test, t_test) = task\n",
    "    acc = test(model, device, x_test, t_test)\n",
    "    avg_acc = avg_acc + acc\n",
    "   \n",
    "  print(\"Avg acc: \", avg_acc / 3)\n",
    "  cumul_accs.append(avg_acc/3)"
   ]
  },
  {
   "cell_type": "markdown",
   "metadata": {
    "id": "jCna5k0DtN-X"
   },
   "source": [
    "**Questions to explore:**\n",
    "\n",
    "*   Can you find a way to reduce the number of examples of the previous tasks to maintain in memory? \n",
    "*   Can you find a good trade-off between memory overhead and final accuracy?\n",
    "*   Why is shuffling needed here?\n",
    "\n",
    "Some tips here: https://arxiv.org/abs/1809.05922"
   ]
  },
  {
   "cell_type": "markdown",
   "metadata": {
    "id": "RrbnV6OqW66y"
   },
   "source": [
    "## JointTraining Strategy\n",
    "\n",
    "While not a proper continual learning strategy, a commonly used baseline for continual learning is what's called \"JointTraining\" or \"offline strategy\", that is a multi-task training setting where all the data are seen at once hence simulating a static setting. This is often intended as a performance upper-bound for a continual learning problem.\n",
    "\n"
   ]
  },
  {
   "cell_type": "code",
   "execution_count": 25,
   "metadata": {
    "id": "gq_bYiYQbHzq"
   },
   "outputs": [],
   "source": [
    "model = Net().to(device)\n",
    "optimizer = optim.SGD(model.parameters(), lr=0.01, momentum=0.9)"
   ]
  },
  {
   "cell_type": "code",
   "execution_count": 26,
   "metadata": {
    "colab": {
     "base_uri": "https://localhost:8080/"
    },
    "id": "T7iwZCidbIqs",
    "outputId": "27da30f3-12cf-4153-950e-02c0416d14a4"
   },
   "outputs": [
    {
     "name": "stdout",
     "output_type": "stream",
     "text": [
      "Training on all tasks together...\n",
      "Train Epoch: 1 \tLoss: 1.201041\n",
      "Train Epoch: 2 \tLoss: 0.687878\n",
      "Train Epoch: 3 \tLoss: 0.490674\n",
      "Testing on task:  0\n",
      "Test set: Average loss: 0.0007, Accuracy: 9449/10000 (94%)\n",
      "\n",
      "Testing on task:  1\n",
      "Test set: Average loss: 0.0016, Accuracy: 8835/10000 (88%)\n",
      "\n",
      "Testing on task:  2\n",
      "Test set: Average loss: 0.0017, Accuracy: 8805/10000 (88%)\n",
      "\n",
      "Avg acc:  90.29666666666667\n"
     ]
    }
   ],
   "source": [
    "offline_accs = []\n",
    "\n",
    "print(\"Training on all tasks together...\")\n",
    "avg_acc = 0\n",
    "(x_train, t_train), _ = tasks[0]\n",
    "  \n",
    "for i in range(1, len(tasks)):\n",
    "    (past_x_train, past_t_train), _ = tasks[i]\n",
    "    x_train = np.concatenate((x_train, past_x_train))\n",
    "    t_train = np.concatenate((t_train, past_t_train))\n",
    "  \n",
    "x_train, t_train = shuffle_in_unison([x_train, t_train], 0)\n",
    "\n",
    "for epoch in range(1, 4):\n",
    "    train(model, device, x_train, t_train, optimizer, epoch)\n",
    "    \n",
    "for id_test, task in enumerate(tasks):\n",
    "    print(\"Testing on task: \", id_test)\n",
    "    _, (x_test, t_test) = task\n",
    "    acc = test(model, device, x_test, t_test)\n",
    "    avg_acc = avg_acc + acc\n",
    "   \n",
    "print(\"Avg acc: \", avg_acc / 3)\n",
    "for i in range(len(tasks)):\n",
    "    offline_accs.append(avg_acc/3)"
   ]
  },
  {
   "cell_type": "markdown",
   "metadata": {
    "id": "5B9b4cCgy0k_"
   },
   "source": [
    "**Questions to explore:**\n",
    "\n",
    "- Is the *JointTraining* strategy really an upper-bound for continual learning?\n",
    "- Can curriculum learning improve our final performace?\n",
    "\n",
    "Some tips here: https://arxiv.org/pdf/1904.03626.pdf"
   ]
  },
  {
   "cell_type": "markdown",
   "metadata": {
    "id": "o3SM7U5fwTqV"
   },
   "source": [
    "## Plot Results\n",
    "\n",
    "To conclude, let's summerize our results in a nice plot! :-)"
   ]
  },
  {
   "cell_type": "code",
   "execution_count": 27,
   "metadata": {
    "colab": {
     "base_uri": "https://localhost:8080/",
     "height": 300
    },
    "id": "sIQEVVpDwPP5",
    "outputId": "571b14d3-ad29-445a-fb6e-44b2344392d8"
   },
   "outputs": [
    {
     "data": {
      "image/png": "[encoded data removed]",
      "text/plain": [
       "<Figure size 432x288 with 1 Axes>"
      ]
     },
     "metadata": {
      "needs_background": "light"
     },
     "output_type": "display_data"
    }
   ],
   "source": [
    "plt.plot([1, 2, 3], naive_accs, '-o', label=\"Naive\")\n",
    "plt.plot([1, 2, 3], cumul_accs, '-o', label=\"Cumulative\")\n",
    "plt.plot([1, 2, 3], offline_accs, '-o', label=\"JointTraining\")\n",
    "plt.xlabel('Tasks Encountered', fontsize=14)\n",
    "plt.ylabel('Average Accuracy', fontsize=14)\n",
    "plt.title('CL Baselines Comparison on Permuted MNIST', fontsize=14);\n",
    "plt.xticks([1, 2, 3])\n",
    "plt.legend(prop={'size': 16});"
   ]
  },
  {
   "cell_type": "markdown",
   "metadata": {
    "id": "9x1D3O7iunxS"
   },
   "source": [
    "**Questions to explore:**\n",
    "\n",
    "*   What's the difference in terms of memory utilization among the three methods? \n",
    "*   Can you plot a similar graph highlighting the memory increase over time?\n",
    "\n",
    "Some tips here: https://stackoverflow.com/questions/449560/how-do-i-determine-the-size-of-an-object-in-python/30316760"
   ]
  },
  {
   "cell_type": "markdown",
   "metadata": {
    "id": "5_wUBAosdjUe"
   },
   "source": [
    "# Split MNIST\n",
    "\n",
    "Split MNIST is just a split in different batches of the original MNIST data. You can do this definining a simple function such as the following:"
   ]
  },
  {
   "cell_type": "code",
   "execution_count": 28,
   "metadata": {
    "id": "FiL1p163d5CJ"
   },
   "outputs": [],
   "source": [
    "def split_mnist(train_x, train_y, test_x, test_y, n_splits=5):\n",
    "    \"\"\" Given the training set, split the tensors by the class label. \"\"\"\n",
    "    n_classes = 10\n",
    "    if n_classes % n_splits != 0:\n",
    "        print(\"n_classes should be a multiple of the number of splits!\")\n",
    "        raise NotImplemented\n",
    "    class_for_split = n_classes // n_splits\n",
    "    mnist_train_test = [[],[]]  # train and test\n",
    "    for id, data_set in enumerate([(train_x, train_y), (test_x, test_y)]):\n",
    "        for i in range(n_splits):\n",
    "            start = i * class_for_split\n",
    "            end = (i + 1) * class_for_split\n",
    "            split_idxs = np.where(np.logical_and(data_set[1] >= start, data_set[1] < end))[0]\n",
    "            mnist_train_test[id].append((data_set[0][split_idxs], data_set[1][split_idxs]))\n",
    "    return mnist_train_test"
   ]
  },
  {
   "cell_type": "code",
   "execution_count": 29,
   "metadata": {
    "id": "89m-P1b_iBF9"
   },
   "outputs": [],
   "source": [
    "train_x, train_y, test_x, test_y = mnist.load()\n",
    "splitmnist = split_mnist(train_x, train_y, test_x, test_y, n_splits=5)"
   ]
  },
  {
   "cell_type": "code",
   "execution_count": 30,
   "metadata": {
    "colab": {
     "base_uri": "https://localhost:8080/"
    },
    "id": "9i8D6_dioCYf",
    "outputId": "3c7e6c0b-a90b-4ed3-e6ac-31597d0c7349"
   },
   "outputs": [
    {
     "name": "stdout",
     "output_type": "stream",
     "text": [
      "train & test splits for task 0: \n",
      "(12665, 1, 28, 28)\n",
      "(12665,)\n",
      "0 1\n",
      "train & test splits for task 1: \n",
      "(12089, 1, 28, 28)\n",
      "(12089,)\n",
      "2 3\n",
      "train & test splits for task 2: \n",
      "(11263, 1, 28, 28)\n",
      "(11263,)\n",
      "4 5\n",
      "train & test splits for task 3: \n",
      "(12183, 1, 28, 28)\n",
      "(12183,)\n",
      "6 7\n",
      "train & test splits for task 4: \n",
      "(11800, 1, 28, 28)\n",
      "(11800,)\n",
      "8 9\n"
     ]
    }
   ],
   "source": [
    "for i in range(5):\n",
    "    train_split_x, train_split_y = splitmnist[0][i]\n",
    "    test_split_x, tests_split_y = splitmnist[1][i]\n",
    "    print(\"train & test splits for task {}: \".format(i))\n",
    "    print(train_split_x.shape)\n",
    "    print(train_split_y.shape)\n",
    "    print(min(train_split_y), max(train_split_y))"
   ]
  },
  {
   "cell_type": "markdown",
   "metadata": {
    "id": "1UBJxBqExQJy"
   },
   "source": [
    "**Exercises / Questions to explore**:\n",
    "\n",
    "- Plot a few sample data belonging to each experience.\n",
    "- Is **SplitMNIST** harder than **PermutedMNIST**?\n",
    "- Is it more realistic? Why?\n",
    "- Compute the results of the introduced baselines. What can you deduce from the plots?\n",
    "\n",
    "Some tips here: https://arxiv.org/pdf/1904.07734.pdf"
   ]
  },
  {
   "cell_type": "markdown",
   "metadata": {
    "id": "OS9gHzZM7HQr"
   },
   "source": [
    "**Copyright (c) 2021. Continual AI. All rights reserved.**\n",
    "\n",
    "See the accompanying LICENSE file in the GitHub repository for terms. \n",
    "\n",
    "*Date: 15-11-2021                                                             \n",
    "Author: Vincenzo Lomonaco                                                    \n",
    "E-mail: contact@continualai.org                                           \n",
    "Website: continualai.org*                                               "
   ]
  }
 ],
 "metadata": {
  "accelerator": "GPU",
  "colab": {
   "collapsed_sections": [],
   "name": "permuted_and_split_mnist.ipynb",
   "provenance": [],
   "toc_visible": true
  },
  "kernelspec": {
   "display_name": "Python 3 (ipykernel)",
   "language": "python",
   "name": "python3"
  },
  "language_info": {
   "codemirror_mode": {
    "name": "ipython",
    "version": 3
   },
   "file_extension": ".py",
   "mimetype": "text/x-python",
   "name": "python",
   "nbconvert_exporter": "python",
   "pygments_lexer": "ipython3",
   "version": "3.7.11"
  }
 },
 "nbformat": 4,
 "nbformat_minor": 1
}
