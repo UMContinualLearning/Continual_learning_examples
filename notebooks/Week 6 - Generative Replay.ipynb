{
 "cells": [
  {
   "cell_type": "markdown",
   "metadata": {
    "colab_type": "text",
    "id": "9Ur_3TCd35dG"
   },
   "source": [
    "# A simple Example of Continual Learning with Generative Replay\n",
    "\n",
    "Generative Replay is a continual learning method that use a generative models to generate samples from past experiences. The idea is : by learning from actual data and generated data from the past we can learn without forgetting.\n",
    "\n",
    "In this notebook, we take on of the simpliest setting : Mnist disjoint - 10 tasks\n",
    "\n",
    "In the setting, we have 10 task with each time one class per task. There is no overlapping between task, and we can not use data from past tasks. \n",
    "\n",
    "The goal is to train a generative model to generate all the 10 classes of mnist even if a receive data from each classes one by one.\n",
    "\n",
    "To do so we use Generative Replay !\n",
    "\n",
    "- **At task 0 (T0) :**  We train a generator on real data (for Mnist only samples of 0 ) only and then we save it as G0. G0 will be used as a memory of T0.\n",
    "- **At task 1 (T1) :**  We clone G0 as G1 and we train it with both real data (samples of 1) and generated data of T0 with G0. At the end of the task G1 learned to generate both 0 and 1. Then we delete G0, G1 will be use as a memory for **both** T0 and T1\n",
    "- **At task 2 (T2) :** We clone G1 as G2 and ...\n",
    "\n",
    "After 10 task if the generative models is efficient we are able to generate all the 10 classes by this method. (Here by default we will only train on 3 tasks but you can easily modify the notebook to do all the 10 tasks :) )\n",
    "\n",
    "In this notebook we only train a generative model to experiment how it works, but this method could also be use to realize an efficient memory for classification algorithms or reinforcement learning algorithms !!\n",
    "\n",
    "\n",
    "Let's start !"
   ]
  },
  {
   "cell_type": "markdown",
   "metadata": {
    "colab_type": "text",
    "id": "-UmlWNS-8Ubp"
   },
   "source": [
    "1. We Create the environment to execute the code, we install pytorch with cuda 8.0 for GPU acceleration."
   ]
  },
  {
   "cell_type": "code",
   "execution_count": 0,
   "metadata": {
    "colab": {
     "base_uri": "https://localhost:8080/",
     "height": 176
    },
    "colab_type": "code",
    "id": "Fx6pWPAGY_S_",
    "outputId": "8a70f1b7-3a9f-4b04-876c-314e0dc2f3bf"
   },
   "outputs": [
    {
     "name": "stdout",
     "output_type": "stream",
     "text": [
      "Platform: cp36-cp36m Accelerator: cu80\n",
      "tcmalloc: large alloc 1073750016 bytes == 0x5ba4c000 @  0x7ff44315c2a4 0x591a07 0x5b5d56 0x502e9a 0x506859 0x502209 0x502f3d 0x506859 0x504c28 0x502540 0x502f3d 0x506859 0x504c28 0x502540 0x502f3d 0x506859 0x504c28 0x502540 0x502f3d 0x507641 0x502209 0x502f3d 0x506859 0x504c28 0x502540 0x502f3d 0x507641 0x504c28 0x502540 0x502f3d 0x507641\n",
      "\u001b[31mpymc3 3.6 has requirement joblib<0.13.0, but you'll have joblib 0.13.0 which is incompatible.\u001b[0m\n",
      "\u001b[31mjupyter-console 6.0.0 has requirement prompt-toolkit<2.1.0,>=2.0.0, but you'll have prompt-toolkit 1.0.15 which is incompatible.\u001b[0m\n",
      "\u001b[31mgoogle-colab 0.0.1a1 has requirement six~=1.11.0, but you'll have six 1.12.0 which is incompatible.\u001b[0m\n",
      "\u001b[31mfeaturetools 0.4.1 has requirement pandas>=0.23.0, but you'll have pandas 0.22.0 which is incompatible.\u001b[0m\n",
      "\u001b[31mcufflinks 0.14.6 has requirement plotly>=3.0.0, but you'll have plotly 1.12.12 which is incompatible.\u001b[0m\n",
      "Torch 0.4.0 CUDA 8.0.61\n"
     ]
    }
   ],
   "source": [
    "# http://pytorch.org/\n",
    "from os import path\n",
    "from wheel.pep425tags import get_abbr_impl, get_impl_ver, get_abi_tag\n",
    "platform = '{}{}-{}'.format(get_abbr_impl(), get_impl_ver(), get_abi_tag())\n",
    "\n",
    "accelerator = 'cu80' #'cu80' if path.exists('/opt/bin/nvidia-smi') else 'cpu'\n",
    "print('Platform:', platform, 'Accelerator:', accelerator)\n",
    "\n",
    "!pip install --upgrade --force-reinstall -q http://download.pytorch.org/whl/{accelerator}/torch-0.4.0-{platform}-linux_x86_64.whl torchvision\n",
    "\n",
    "import torch\n",
    "print('Torch', torch.__version__, 'CUDA', torch.version.cuda)"
   ]
  },
  {
   "cell_type": "markdown",
   "metadata": {
    "colab_type": "text",
    "id": "Gzh8v-jf8ihv"
   },
   "source": [
    "2. We import all library needed for training and visualisation"
   ]
  },
  {
   "cell_type": "code",
   "execution_count": 0,
   "metadata": {
    "colab": {},
    "colab_type": "code",
    "id": "bkcYXgb9aRLV"
   },
   "outputs": [],
   "source": [
    "import torch\n",
    "import torch.nn as nn\n",
    "import torchvision.datasets as datasets\n",
    "import torchvision.transforms as transforms\n",
    "import torch.optim as optim\n",
    "import torch.nn.functional as F\n",
    "import numpy as np\n",
    "import matplotlib.pyplot as plt\n",
    "from torch.autograd import Variable\n",
    "from copy import deepcopy"
   ]
  },
  {
   "cell_type": "markdown",
   "metadata": {
    "colab_type": "text",
    "id": "lePKqo_e8obk"
   },
   "source": [
    "3. We clone the continualAI repo ta get an easy to use data loader for mnist"
   ]
  },
  {
   "cell_type": "code",
   "execution_count": 0,
   "metadata": {
    "colab": {
     "base_uri": "https://localhost:8080/",
     "height": 86
    },
    "colab_type": "code",
    "id": "H9JYmfPzaTCi",
    "outputId": "d5925c22-35e4-41ff-bc99-ccc98376fa0f"
   },
   "outputs": [
    {
     "name": "stdout",
     "output_type": "stream",
     "text": [
      "Cloning into 'continualai/colab'...\n",
      "remote: Enumerating objects: 84, done.\u001b[K\n",
      "Unpacking objects:   1% (1/84)   \r",
      "Unpacking objects:   2% (2/84)   \r",
      "Unpacking objects:   3% (3/84)   \r",
      "Unpacking objects:   4% (4/84)   \r",
      "Unpacking objects:   5% (5/84)   \r",
      "Unpacking objects:   7% (6/84)   \r",
      "Unpacking objects:   8% (7/84)   \r",
      "Unpacking objects:   9% (8/84)   \r",
      "Unpacking objects:  10% (9/84)   \r",
      "Unpacking objects:  11% (10/84)   \r",
      "Unpacking objects:  13% (11/84)   \r",
      "Unpacking objects:  14% (12/84)   \r",
      "Unpacking objects:  15% (13/84)   \r",
      "Unpacking objects:  16% (14/84)   \r",
      "Unpacking objects:  17% (15/84)   \r",
      "Unpacking objects:  19% (16/84)   \r",
      "Unpacking objects:  20% (17/84)   \r",
      "Unpacking objects:  21% (18/84)   \r",
      "Unpacking objects:  22% (19/84)   \r",
      "Unpacking objects:  23% (20/84)   \r",
      "Unpacking objects:  25% (21/84)   \r",
      "Unpacking objects:  26% (22/84)   \r",
      "Unpacking objects:  27% (23/84)   \r",
      "Unpacking objects:  28% (24/84)   \r",
      "Unpacking objects:  29% (25/84)   \r",
      "Unpacking objects:  30% (26/84)   \r",
      "Unpacking objects:  32% (27/84)   \r",
      "Unpacking objects:  33% (28/84)   \r",
      "Unpacking objects:  34% (29/84)   \r",
      "Unpacking objects:  35% (30/84)   \r",
      "Unpacking objects:  36% (31/84)   \r",
      "Unpacking objects:  38% (32/84)   \r",
      "Unpacking objects:  39% (33/84)   \r",
      "Unpacking objects:  40% (34/84)   \r",
      "remote: Total 84 (delta 0), reused 0 (delta 0), pack-reused 84\u001b[K\n",
      "Unpacking objects:  41% (35/84)   \r",
      "Unpacking objects:  42% (36/84)   \r",
      "Unpacking objects:  44% (37/84)   \r",
      "Unpacking objects:  45% (38/84)   \r",
      "Unpacking objects:  46% (39/84)   \r",
      "Unpacking objects:  47% (40/84)   \r",
      "Unpacking objects:  48% (41/84)   \r",
      "Unpacking objects:  50% (42/84)   \r",
      "Unpacking objects:  51% (43/84)   \r",
      "Unpacking objects:  52% (44/84)   \r",
      "Unpacking objects:  53% (45/84)   \r",
      "Unpacking objects:  54% (46/84)   \r",
      "Unpacking objects:  55% (47/84)   \r",
      "Unpacking objects:  57% (48/84)   \r",
      "Unpacking objects:  58% (49/84)   \r",
      "Unpacking objects:  59% (50/84)   \r",
      "Unpacking objects:  60% (51/84)   \r",
      "Unpacking objects:  61% (52/84)   \r",
      "Unpacking objects:  63% (53/84)   \r",
      "Unpacking objects:  64% (54/84)   \r",
      "Unpacking objects:  65% (55/84)   \r",
      "Unpacking objects:  66% (56/84)   \r",
      "Unpacking objects:  67% (57/84)   \r",
      "Unpacking objects:  69% (58/84)   \r",
      "Unpacking objects:  70% (59/84)   \r",
      "Unpacking objects:  71% (60/84)   \r",
      "Unpacking objects:  72% (61/84)   \r",
      "Unpacking objects:  73% (62/84)   \r",
      "Unpacking objects:  75% (63/84)   \r",
      "Unpacking objects:  76% (64/84)   \r",
      "Unpacking objects:  77% (65/84)   \r",
      "Unpacking objects:  78% (66/84)   \r",
      "Unpacking objects:  79% (67/84)   \r",
      "Unpacking objects:  80% (68/84)   \r",
      "Unpacking objects:  82% (69/84)   \r",
      "Unpacking objects:  83% (70/84)   \r",
      "Unpacking objects:  84% (71/84)   \r",
      "Unpacking objects:  85% (72/84)   \r",
      "Unpacking objects:  86% (73/84)   \r",
      "Unpacking objects:  88% (74/84)   \r",
      "Unpacking objects:  89% (75/84)   \r",
      "Unpacking objects:  90% (76/84)   \r",
      "Unpacking objects:  91% (77/84)   \r",
      "Unpacking objects:  92% (78/84)   \r",
      "Unpacking objects:  94% (79/84)   \r",
      "Unpacking objects:  95% (80/84)   \r",
      "Unpacking objects:  96% (81/84)   \r",
      "Unpacking objects:  97% (82/84)   \r",
      "Unpacking objects:  98% (83/84)   \r",
      "Unpacking objects: 100% (84/84)   \r",
      "Unpacking objects: 100% (84/84), done.\n"
     ]
    }
   ],
   "source": [
    "!git clone https://github.com/ContinualAI/colab.git continualai/colab"
   ]
  },
  {
   "cell_type": "markdown",
   "metadata": {
    "colab_type": "text",
    "id": "aIzKP9GU81TT"
   },
   "source": [
    "4. We import mnist and inialize it"
   ]
  },
  {
   "cell_type": "code",
   "execution_count": 0,
   "metadata": {
    "colab": {
     "base_uri": "https://localhost:8080/",
     "height": 34
    },
    "colab_type": "code",
    "id": "hEC8SMuwACqn",
    "outputId": "d23ebcef-a7df-4a3c-e74b-f29e5548f531"
   },
   "outputs": [
    {
     "name": "stdout",
     "output_type": "stream",
     "text": [
      "extras\tLICENSE  notebooks  README.md  scripts\n"
     ]
    }
   ],
   "source": [
    "!ls colab"
   ]
  },
  {
   "cell_type": "code",
   "execution_count": 0,
   "metadata": {
    "colab": {
     "base_uri": "https://localhost:8080/",
     "height": 121
    },
    "colab_type": "code",
    "id": "192J3FHLa0nE",
    "outputId": "6a78c9ea-c7b9-45b5-c332-8c5a1e549fbe"
   },
   "outputs": [
    {
     "name": "stdout",
     "output_type": "stream",
     "text": [
      "Downloading train-images-idx3-ubyte.gz...\n",
      "Downloading t10k-images-idx3-ubyte.gz...\n",
      "Downloading train-labels-idx1-ubyte.gz...\n",
      "Downloading t10k-labels-idx1-ubyte.gz...\n",
      "Download complete.\n",
      "Save complete.\n"
     ]
    }
   ],
   "source": [
    "from continualai.colab.scripts import mnist\n",
    "mnist.init()"
   ]
  },
  {
   "cell_type": "markdown",
   "metadata": {
    "colab_type": "text",
    "id": "JHdbAdK-8_xs"
   },
   "source": [
    "5. We can now load the data set and get training and testing data and labels"
   ]
  },
  {
   "cell_type": "code",
   "execution_count": 0,
   "metadata": {
    "colab": {
     "base_uri": "https://localhost:8080/",
     "height": 86
    },
    "colab_type": "code",
    "id": "ec_SejbFa39O",
    "outputId": "b91e8ae5-eb2b-4d4a-9229-8947c8d2850c"
   },
   "outputs": [
    {
     "name": "stdout",
     "output_type": "stream",
     "text": [
      "x_train dim and type:  (60000, 1, 28, 28) float32\n",
      "t_train dim and type:  (60000,) uint8\n",
      "x_test dim and type:  (10000, 1, 28, 28) float32\n",
      "t_test dim and type:  (10000,) uint8\n"
     ]
    }
   ],
   "source": [
    "x_train, t_train, x_test, t_test = mnist.load()\n",
    "\n",
    "print(\"x_train dim and type: \", x_train.shape, x_train.dtype)\n",
    "print(\"t_train dim and type: \", t_train.shape, t_train.dtype)\n",
    "print(\"x_test dim and type: \", x_test.shape, x_test.dtype)\n",
    "print(\"t_test dim and type: \", t_test.shape, t_test.dtype)"
   ]
  },
  {
   "cell_type": "markdown",
   "metadata": {
    "colab_type": "text",
    "id": "V3bh6Gns9J4M"
   },
   "source": [
    "6. We set a flag to use cuda for GPU acceleration and we fix the seed for reproducibility purpose"
   ]
  },
  {
   "cell_type": "code",
   "execution_count": 0,
   "metadata": {
    "colab": {},
    "colab_type": "code",
    "id": "FbJnUx1Ma87D"
   },
   "outputs": [],
   "source": [
    "# switch to False to use CPU\n",
    "use_cuda = True\n",
    "\n",
    "use_cuda = use_cuda and torch.cuda.is_available()\n",
    "device = torch.device(\"cuda\" if use_cuda else \"cpu\");\n",
    "torch.manual_seed(1);"
   ]
  },
  {
   "cell_type": "markdown",
   "metadata": {
    "colab_type": "text",
    "id": "RU9L7kJs9UX-"
   },
   "source": [
    "7. Creation of a generator. We will use a GAN to achieve Generative Replay."
   ]
  },
  {
   "cell_type": "code",
   "execution_count": 0,
   "metadata": {
    "colab": {},
    "colab_type": "code",
    "id": "-ZyVDR0TbM1a"
   },
   "outputs": [],
   "source": [
    "class Generator(nn.Module):\n",
    "    # Network Architecture is exactly same as in infoGAN (https://arxiv.org/abs/1606.03657)\n",
    "    # Architecture : FC1024_BR-FC7x7x128_BR-(64)4dc2s_BR-(1)4dc2s_S\n",
    "    def __init__(self):\n",
    "        super(Generator, self).__init__()\n",
    "\n",
    "        self.latent_dim = 1024\n",
    "        self.input_height = 28\n",
    "        self.input_width = 28\n",
    "        self.input_dim = 62\n",
    "        self.output_dim = 1\n",
    "\n",
    "        self.fc = nn.Sequential(\n",
    "            nn.Linear(self.input_dim, self.latent_dim),\n",
    "            nn.BatchNorm1d(self.latent_dim),\n",
    "            nn.ReLU(),\n",
    "            nn.Linear(self.latent_dim, 128 * (self.input_height // 4) * (self.input_width // 4)),\n",
    "            nn.BatchNorm1d(128 * (self.input_height // 4) * (self.input_width // 4)),\n",
    "            nn.ReLU(),\n",
    "        )\n",
    "        self.deconv = nn.Sequential(\n",
    "            nn.ConvTranspose2d(128, 64, 4, 2, 1),\n",
    "            nn.BatchNorm2d(64),\n",
    "            nn.ReLU(),\n",
    "            nn.ConvTranspose2d(64, self.output_dim, 4, 2, 1),\n",
    "            nn.Sigmoid(),\n",
    "        )\n",
    "\n",
    "        self.maxPool = nn.MaxPool2d((2, 2), stride=(2, 2))\n",
    "        self.Sigmoid = nn.Sigmoid()\n",
    "        self.apply(self.weights_init)\n",
    "    \n",
    "    def reinit(self):\n",
    "      self.apply(self.weights_init)\n",
    "\n",
    "    def forward(self, input):\n",
    "        input = input.view(-1, self.input_dim)\n",
    "        x = self.fc(input)\n",
    "        x = x.view(-1, 128, (self.input_height // 4), (self.input_width // 4))\n",
    "        x = self.deconv(x)\n",
    "        return x\n",
    "\n",
    "    def weights_init(self, m):\n",
    "        classname = m.__class__.__name__\n",
    "        if classname.find('Conv') != -1:\n",
    "            m.weight.data.normal_(0.0, 0.02)\n",
    "        elif classname.find('BatchNorm') != -1:\n",
    "            m.weight.data.normal_(1.0, 0.02)\n",
    "            m.bias.data.fill_(0)"
   ]
  },
  {
   "cell_type": "markdown",
   "metadata": {
    "colab_type": "text",
    "id": "sBQ3Emmz9pW_"
   },
   "source": [
    "7. Here is the Discriminator of our GAN"
   ]
  },
  {
   "cell_type": "code",
   "execution_count": 0,
   "metadata": {
    "colab": {},
    "colab_type": "code",
    "id": "g6EMu6RjcNMU"
   },
   "outputs": [],
   "source": [
    "class Discriminator(nn.Module):\n",
    "    # Network Architecture is exactly same as in infoGAN (https://arxiv.org/abs/1606.03657)\n",
    "    # Architecture : (64)4c2s-(128)4c2s_BL-FC1024_BL-FC1_S\n",
    "    def __init__(self):\n",
    "        super(Discriminator, self).__init__()\n",
    "        self.input_height = 28\n",
    "        self.input_width = 28\n",
    "        self.input_dim = 1\n",
    "        self.output_dim = 1\n",
    "\n",
    "        self.latent_dim = 1024\n",
    "\n",
    "        shape = 128 * (self.input_height // 4) * (self.input_width // 4)\n",
    "\n",
    "        self.fc1_1 = nn.Linear(784, self.latent_dim)\n",
    "        self.fc1_2 = nn.Linear(10, self.latent_dim)\n",
    "        self.fc2 = nn.Linear(self.latent_dim * 2, self.latent_dim // 2)\n",
    "        self.fc2_bn = nn.BatchNorm1d(self.latent_dim // 2)\n",
    "        self.fc3 = nn.Linear(self.latent_dim // 2, 256)\n",
    "        self.fc3_bn = nn.BatchNorm1d(256)\n",
    "        self.fc4 = nn.Linear(256, 1)\n",
    "\n",
    "        self.conv = nn.Sequential(\n",
    "            nn.Conv2d(self.input_dim, 64, 4, 2, 1),\n",
    "            nn.LeakyReLU(0.2),\n",
    "            nn.Conv2d(64, 128, 4, 2, 1),\n",
    "            nn.BatchNorm2d(128),\n",
    "            nn.LeakyReLU(0.2),\n",
    "        )\n",
    "        self.fc = nn.Sequential(\n",
    "            nn.Linear(shape, self.latent_dim),\n",
    "            nn.BatchNorm1d(self.latent_dim),\n",
    "            nn.LeakyReLU(0.2),\n",
    "            nn.Linear(self.latent_dim, self.output_dim),\n",
    "            nn.Sigmoid(),\n",
    "        )\n",
    "        self.aux_linear = nn.Linear(shape, 10)\n",
    "        self.softmax = nn.Softmax()\n",
    "        self.apply(self.weights_init)\n",
    "    \n",
    "    def reinit(self):\n",
    "      self.apply(self.weights_init)\n",
    "\n",
    "    def weights_init(self, m):\n",
    "        classname = m.__class__.__name__\n",
    "        if classname.find('Conv') != -1:\n",
    "            m.weight.data.normal_(0.0, 0.02)\n",
    "        elif classname.find('BatchNorm') != -1:\n",
    "            m.weight.data.normal_(1.0, 0.02)\n",
    "            m.bias.data.fill_(0)\n",
    "\n",
    "    def forward(self, input):\n",
    "        x = self.conv(input)\n",
    "        x = x.view(x.data.shape[0], 128 * (self.input_height // 4) * (self.input_width // 4))\n",
    "        return self.fc(x)"
   ]
  },
  {
   "cell_type": "markdown",
   "metadata": {
    "colab_type": "text",
    "id": "wT1xKrgw9vQS"
   },
   "source": [
    "8. The function get_iter_dataset makes possible to load data from only one particular class. It will help to load data class by class."
   ]
  },
  {
   "cell_type": "code",
   "execution_count": 0,
   "metadata": {
    "colab": {},
    "colab_type": "code",
    "id": "LmzvXxzHcrGp"
   },
   "outputs": [],
   "source": [
    "# function to get digits from only one class\n",
    "def get_iter_dataset(x_train, t_train, classe=None):\n",
    "    if classe is not None:\n",
    "        return x_train[np.where(t_train==classe)[0]]"
   ]
  },
  {
   "cell_type": "markdown",
   "metadata": {
    "colab_type": "text",
    "id": "FkFgz_Vg9-Qz"
   },
   "source": [
    "9. The function \"run_batch\" train the Generator and Discriminator one a particular batch of data."
   ]
  },
  {
   "cell_type": "code",
   "execution_count": 0,
   "metadata": {
    "colab": {},
    "colab_type": "code",
    "id": "MeBNcBSqvqUM"
   },
   "outputs": [],
   "source": [
    "def run_batch(G, D, G_optimizer, D_optimizer, x_):\n",
    "      x_ = x_.view((-1, 1, 28, 28))\n",
    "    \n",
    "      # y_real and y_fake are the label for fake and true data\n",
    "      y_real_ = Variable(torch.ones(x_.size(0), 1))\n",
    "      y_fake_ = Variable(torch.zeros(x_.size(0), 1))\n",
    "      if use_cuda:\n",
    "        y_real_, y_fake_ = y_real_.cuda(0), y_fake_.cuda(0)\n",
    "\n",
    "      z_ = torch.rand((x_.size(0), z_dim))\n",
    "\n",
    "      x_, z_ = Variable(x_), Variable(z_)\n",
    "\n",
    "      if use_cuda:\n",
    "        x_, z_ = x_.cuda(0), z_.cuda(0)\n",
    "\n",
    "      # update D network\n",
    "      D_optimizer.zero_grad()\n",
    "\n",
    "      D_real = D(x_)\n",
    "      D_real_loss = BCELoss(D_real, y_real_[:x_.size(0)])\n",
    "\n",
    "      G_ = G(z_)\n",
    "      D_fake = D(G_)\n",
    "      D_fake_loss = BCELoss(D_fake, y_fake_[:x_.size(0)])\n",
    "\n",
    "      D_loss = D_real_loss + D_fake_loss\n",
    "\n",
    "      D_loss.backward()\n",
    "      D_optimizer.step()\n",
    "\n",
    "      # update G network\n",
    "      G_optimizer.zero_grad()\n",
    "\n",
    "      G_ = G(z_)\n",
    "      D_fake = D(G_)\n",
    "      G_loss = BCELoss(D_fake, y_real_[:x_.size(0)])\n",
    "\n",
    "      G_loss.backward()\n",
    "      G_optimizer.step()"
   ]
  },
  {
   "cell_type": "code",
   "execution_count": 0,
   "metadata": {
    "colab": {},
    "colab_type": "code",
    "id": "I_3so87yxYX6"
   },
   "outputs": [],
   "source": [
    "#Declarations and Hyper-parameters\n",
    "\n",
    "# Training hyper-parameter\n",
    "nb_task = 3  # change this to 10 if you want the experiment of the full 10 classes setting\n",
    "batch_size = 64\n",
    "lr = 0.0002\n",
    "z_dim = 62\n",
    "epoch_number = 10\n",
    "nb_samples = 10\n",
    "\n",
    "G = Generator()\n",
    "D = Discriminator()\n",
    "\n",
    "# G and D are put in train mode\n",
    "G.train()\n",
    "D.train()\n",
    "\n",
    "if use_cuda:\n",
    "  G.cuda(0)\n",
    "  D.cuda(0)\n",
    "\n",
    "# Use of Adam optimizer \n",
    "G_optimizer = optim.Adam(G.parameters(), lr=lr)\n",
    "D_optimizer = optim.Adam(D.parameters(), lr=lr)\n",
    "BCELoss = nn.BCELoss()"
   ]
  },
  {
   "cell_type": "markdown",
   "metadata": {
    "colab_type": "text",
    "id": "aY4lGuxSyZ4q"
   },
   "source": [
    "### Training Generator without Replay\n",
    "In the following cell we train the generator without using Generative Replay. It show what happen when the catastrophics forgetting appear. Each line of samples is ramdomly sampled from the generator at the end of each task. We can see that at the end of each task the generator is only able to generate data from the present and not anymore from the past task. "
   ]
  },
  {
   "cell_type": "code",
   "execution_count": 0,
   "metadata": {
    "colab": {
     "base_uri": "https://localhost:8080/",
     "height": 233
    },
    "colab_type": "code",
    "id": "tkQyFHFQeGBZ",
    "outputId": "793bf281-fb3b-487e-da41-c32662610ac5"
   },
   "outputs": [
    {
     "data": {
      "image/png": "[encoded data removed]",
      "text/plain": [
       "<matplotlib.figure.Figure at 0x7f1d97e37e80>"
      ]
     },
     "metadata": {
      "tags": []
     },
     "output_type": "display_data"
    },
    {
     "data": {
      "image/png": "[encoded data removed]",
      "text/plain": [
       "<matplotlib.figure.Figure at 0x7f1d94b35080>"
      ]
     },
     "metadata": {
      "tags": []
     },
     "output_type": "display_data"
    },
    {
     "data": {
      "image/png": "[encoded data removed]",
      "text/plain": [
       "<matplotlib.figure.Figure at 0x7f1d94997b00>"
      ]
     },
     "metadata": {
      "tags": []
     },
     "output_type": "display_data"
    }
   ],
   "source": [
    "for task in range(nb_task):\n",
    "  \n",
    "  data = get_iter_dataset(x_train, t_train, classe=task)\n",
    "  nb_batch = int(len(data)/batch_size)\n",
    "  \n",
    "  for epoch in range(epoch_number):\n",
    "    for index in range(nb_batch):\n",
    "      x_=torch.FloatTensor(data[index*batch_size:(index+1)*batch_size])\n",
    "      run_batch(G, D, G_optimizer, D_optimizer, x_)\n",
    "\n",
    "  \n",
    "  z_ = Variable(torch.rand((nb_samples, z_dim)))\n",
    "  \n",
    "  if use_cuda:\n",
    "    z_ = z_.cuda(0)\n",
    "  samples = G(z_).data\n",
    "  samples = samples.cpu().numpy()\n",
    "  #plt.plot(samples[0])\n",
    "  \n",
    "  f, axarr = plt.subplots(1,nb_samples)\n",
    "  for j in range(nb_samples):\n",
    "    axarr[j].imshow(samples[j, 0], cmap=\"gray\")\n",
    "  np.vectorize(lambda ax:ax.axis('off'))(axarr);"
   ]
  },
  {
   "cell_type": "markdown",
   "metadata": {
    "colab_type": "text",
    "id": "PmJPlExp--5A"
   },
   "source": [
    "10. This function help to generate replayed data from the GAN use as memory (Gt-1)"
   ]
  },
  {
   "cell_type": "code",
   "execution_count": 0,
   "metadata": {
    "colab": {},
    "colab_type": "code",
    "id": "4PyScms7yAxH"
   },
   "outputs": [],
   "source": [
    "# New function to generate samples for replay\n",
    "def get_replay(generator, batchsize):\n",
    "  z_ = Variable(torch.rand((batchsize, z_dim)))\n",
    "  if use_cuda:\n",
    "    z_ = z_.cuda(0)\n",
    "  return generator(z_).cpu()"
   ]
  },
  {
   "cell_type": "markdown",
   "metadata": {
    "colab_type": "text",
    "id": "ErM-LpqUyjgs"
   },
   "source": [
    "###Training Generator with Replay\n",
    "\n",
    "After seeing what happend when training without Generative Replay, we can now see how efficient generative replay is in this setting."
   ]
  },
  {
   "cell_type": "code",
   "execution_count": 0,
   "metadata": {
    "colab": {
     "base_uri": "https://localhost:8080/",
     "height": 233
    },
    "colab_type": "code",
    "id": "p5IEH98if_Ju",
    "outputId": "ad6df33a-1a1b-4784-fecc-6b6f15d65a1c"
   },
   "outputs": [
    {
     "data": {
      "image/png": "[encoded data removed]",
      "text/plain": [
       "<matplotlib.figure.Figure at 0x7f1d97e3b9b0>"
      ]
     },
     "metadata": {
      "tags": []
     },
     "output_type": "display_data"
    },
    {
     "data": {
      "image/png": "[encoded data removed]",
      "text/plain": [
       "<matplotlib.figure.Figure at 0x7f1d97e0f6a0>"
      ]
     },
     "metadata": {
      "tags": []
     },
     "output_type": "display_data"
    },
    {
     "data": {
      "image/png": "[encoded data removed]",
      "text/plain": [
       "<matplotlib.figure.Figure at 0x7f1d91a8cb70>"
      ]
     },
     "metadata": {
      "tags": []
     },
     "output_type": "display_data"
    }
   ],
   "source": [
    "# We reinit D and G to not cheat\n",
    "G.reinit()\n",
    "D.reinit()\n",
    "\n",
    "for task in range(nb_task):\n",
    "  \n",
    "  data = get_iter_dataset(x_train, t_train, classe=task)\n",
    "  nb_batch = int(len(data)/batch_size)\n",
    "  \n",
    "  for epoch in range(epoch_number):\n",
    "    for index in range(nb_batch):\n",
    "      x_=torch.FloatTensor(data[index*batch_size:(index+1)*batch_size])\n",
    "       \n",
    "      if task > 0 :\n",
    "        # We concat a batch of previously learned data\n",
    "        # the more there is past task more data need to be regenerate\n",
    "        replay = get_replay(G_saved, batch_size*task)\n",
    "        x_=torch.cat((x_,replay),0)\n",
    "      \n",
    "      \n",
    "      run_batch(G, D, G_optimizer, D_optimizer, x_)\n",
    "      \n",
    "  G_saved = deepcopy(G)\n",
    "  \n",
    "  z_ = Variable(torch.rand((nb_samples, z_dim)))\n",
    "  \n",
    "  if use_cuda:\n",
    "    z_ = z_.cuda(0)\n",
    "  samples = G(z_).data\n",
    "  samples = samples.cpu().numpy()\n",
    "  #plt.plot(samples[0])\n",
    "  \n",
    "  f, axarr = plt.subplots(1,nb_samples)\n",
    "  for j in range(nb_samples):\n",
    "    axarr[j].imshow(samples[j, 0], cmap=\"gray\")\n",
    "  np.vectorize(lambda ax:ax.axis('off'))(axarr);"
   ]
  },
  {
   "cell_type": "markdown",
   "metadata": {
    "colab_type": "text",
    "id": "mWaLcSa2CHx7"
   },
   "source": [
    "### Bibliographie\n",
    "\n",
    "**Generative Models from the perspective of Continual Learning**\n",
    "*Timothee Lesort, Hugo Caselles-Dupre, Michael Garcia-Ortiz,  Andrei Stoian  and David Filliat*\n",
    "\n",
    "```\n",
    "@ARTICLE{2018arXiv181209111L,\n",
    "       author = {{Lesort}, Timoth{\\'e}e and {Caselles-Dupr{\\'e}}, Hugo and {Garcia-\n",
    "        Ortiz}, Michael and {Stoian}, Andrei and {Filliat}, David},\n",
    "        title = \"{Generative Models from the perspective of Continual Learning}\",\n",
    "      journal = {arXiv e-prints},\n",
    "     keywords = {Computer Science - Machine Learning, Computer Science - Artificial Intelligence, Computer Science - Computer Vision and Pattern Recognition},\n",
    "         year = 2018,\n",
    "        month = Dec,\n",
    "          eid = {arXiv:1812.09111},\n",
    "        pages = {arXiv:1812.09111},\n",
    "archivePrefix = {arXiv},\n",
    "       eprint = {1812.09111},\n",
    " primaryClass = {cs.LG},\n",
    "       adsurl = {https://ui.adsabs.harvard.edu/\\#abs/2018arXiv181209111L},\n",
    "      adsnote = {Provided by the SAO/NASA Astrophysics Data System}\n",
    "}\n",
    "```\n"
   ]
  },
  {
   "cell_type": "code",
   "execution_count": 0,
   "metadata": {
    "colab": {},
    "colab_type": "code",
    "id": "XRYxFh1TqGFw"
   },
   "outputs": [],
   "source": []
  }
 ],
 "metadata": {
  "accelerator": "GPU",
  "colab": {
   "collapsed_sections": [],
   "name": "Generative_Replay.ipynb",
   "provenance": [],
   "version": "0.3.2"
  },
  "kernelspec": {
   "display_name": "Python 3 (ipykernel)",
   "language": "python",
   "name": "python3"
  },
  "language_info": {
   "codemirror_mode": {
    "name": "ipython",
    "version": 3
   },
   "file_extension": ".py",
   "mimetype": "text/x-python",
   "name": "python",
   "nbconvert_exporter": "python",
   "pygments_lexer": "ipython3",
   "version": "3.10.4"
  }
 },
 "nbformat": 4,
 "nbformat_minor": 1
}
