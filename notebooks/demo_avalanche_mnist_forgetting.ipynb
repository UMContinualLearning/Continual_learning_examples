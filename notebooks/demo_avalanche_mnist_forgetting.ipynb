{
 "cells": [
  {
   "cell_type": "code",
   "execution_count": 19,
   "id": "d1437deb",
   "metadata": {},
   "outputs": [],
   "source": [
    "# !pip install avalanche-lib==0.2.0"
   ]
  },
  {
   "cell_type": "code",
   "execution_count": 20,
   "id": "a3db58b8",
   "metadata": {},
   "outputs": [],
   "source": [
    "import avalanche as avl\n",
    "import torch\n",
    "from avalanche.evaluation import metrics as metrics"
   ]
  },
  {
   "cell_type": "code",
   "execution_count": 21,
   "id": "124098ef",
   "metadata": {},
   "outputs": [],
   "source": [
    "is_multitask = True"
   ]
  },
  {
   "cell_type": "code",
   "execution_count": 22,
   "id": "6b26f0a7",
   "metadata": {},
   "outputs": [],
   "source": [
    "# load a benchmark\n",
    "\n",
    "benchmark = avl.benchmarks.SplitMNIST(\n",
    "    n_experiences=5, # continual learning; 5 experiences, 2 digits/classes per experience\n",
    "    return_task_id=is_multitask, # set to True for multi-task experiments\n",
    "    seed=0\n",
    ")"
   ]
  },
  {
   "cell_type": "code",
   "execution_count": 23,
   "id": "f5adab6c",
   "metadata": {},
   "outputs": [],
   "source": [
    "# initialize a learning model\n",
    "\n",
    "model = avl.models.SimpleMLP( # multi-layer perceptron\n",
    "    input_size = 784, # dimensions of input data\n",
    "    hidden_size = 256, # how many neurons in the hidden layer\n",
    "    hidden_layers = 2, # how many hidden layers\n",
    "    drop_rate = 0.5,\n",
    "    num_classes = 10 # how many classes; 10 classes for MNIST\n",
    ")\n",
    "\n",
    "if is_multitask: \n",
    "    model = avl.models.as_multitask(model, 'classifier') # command to convert the SimpleMLP model into a multi-task model"
   ]
  },
  {
   "cell_type": "code",
   "execution_count": 24,
   "id": "2a244eeb",
   "metadata": {},
   "outputs": [
    {
     "name": "stderr",
     "output_type": "stream",
     "text": [
      "/home/alex/anaconda3/envs/avalanche-env/lib/python3.7/site-packages/avalanche/training/plugins/evaluation.py:82: UserWarning: No benchmark provided to the evaluation plugin. Metrics may be computed on inconsistent portion of streams, use at your own risk.\n",
      "  \"No benchmark provided to the evaluation plugin. \"\n"
     ]
    }
   ],
   "source": [
    "# initialize evaluation metrics\n",
    "\n",
    "interactive_logger = avl.logging.InteractiveLogger()\n",
    "\n",
    "evaluation_plugin = avl.training.plugins.EvaluationPlugin(\n",
    "    metrics.accuracy_metrics(experience=True), # report accuracy score for each experience\n",
    "    metrics.forgetting_metrics(experience=True), # report forgetting score for each experience\n",
    "    loggers=[interactive_logger]\n",
    ")"
   ]
  },
  {
   "cell_type": "code",
   "execution_count": 25,
   "id": "167a2206",
   "metadata": {},
   "outputs": [],
   "source": [
    "# initialize a learning strategy\n",
    "\n",
    "cl_strategy = avl.training.Naive(\n",
    "    model = model, # learning model, i.e. MLP\n",
    "    optimizer = torch.optim.SGD(model.parameters(), lr=0.001), # optimizer for MLP parameters\n",
    "    criterion = torch.nn.CrossEntropyLoss(), # loss criterion for optimizer\n",
    "    train_mb_size = 64, # how many training samples per mini-batch\n",
    "    train_epochs = 3, # how many training epochs per mini-batch\n",
    "    evaluator = evaluation_plugin\n",
    ")"
   ]
  },
  {
   "cell_type": "code",
   "execution_count": 26,
   "id": "4756b815",
   "metadata": {},
   "outputs": [
    {
     "name": "stdout",
     "output_type": "stream",
     "text": [
      "Current Experience:  0\n",
      "-- >> Start of training phase << --\n",
      "100%|█████████████████████████████████████████| 197/197 [00:04<00:00, 46.08it/s]\n",
      "Epoch 0 ended.\n",
      "100%|█████████████████████████████████████████| 197/197 [00:04<00:00, 46.20it/s]\n",
      "Epoch 1 ended.\n",
      "100%|█████████████████████████████████████████| 197/197 [00:04<00:00, 46.83it/s]\n",
      "Epoch 2 ended.\n",
      "-- >> End of training phase << --\n",
      "-- >> Start of eval phase << --\n",
      "-- Starting eval on experience 0 (Task 0) from test stream --\n",
      "100%|███████████████████████████████████████████| 34/34 [00:00<00:00, 53.06it/s]\n",
      "> Eval on experience 0 (Task 0) from test stream ended.\n",
      "\tTop1_Acc_Exp/eval_phase/test_stream/Task000/Exp000 = 0.9877\n",
      "-- Starting eval on experience 1 (Task 0) from test stream --\n",
      "100%|███████████████████████████████████████████| 30/30 [00:00<00:00, 52.46it/s]\n",
      "> Eval on experience 1 (Task 0) from test stream ended.\n",
      "\tTop1_Acc_Exp/eval_phase/test_stream/Task000/Exp001 = 0.0000\n",
      "-- Starting eval on experience 2 (Task 0) from test stream --\n",
      "100%|███████████████████████████████████████████| 32/32 [00:00<00:00, 52.00it/s]\n",
      "> Eval on experience 2 (Task 0) from test stream ended.\n",
      "\tTop1_Acc_Exp/eval_phase/test_stream/Task000/Exp002 = 0.0000\n",
      "-- Starting eval on experience 3 (Task 0) from test stream --\n",
      "100%|███████████████████████████████████████████| 31/31 [00:00<00:00, 51.82it/s]\n",
      "> Eval on experience 3 (Task 0) from test stream ended.\n",
      "\tTop1_Acc_Exp/eval_phase/test_stream/Task000/Exp003 = 0.0000\n",
      "-- Starting eval on experience 4 (Task 0) from test stream --\n",
      "100%|███████████████████████████████████████████| 32/32 [00:00<00:00, 50.31it/s]\n",
      "> Eval on experience 4 (Task 0) from test stream ended.\n",
      "\tTop1_Acc_Exp/eval_phase/test_stream/Task000/Exp004 = 0.0000\n",
      "-- >> End of eval phase << --\n",
      "Current Experience:  1\n",
      "-- >> Start of training phase << --\n",
      "100%|█████████████████████████████████████████| 183/183 [00:03<00:00, 46.67it/s]\n",
      "Epoch 0 ended.\n",
      "100%|█████████████████████████████████████████| 183/183 [00:03<00:00, 46.06it/s]\n",
      "Epoch 1 ended.\n",
      "100%|█████████████████████████████████████████| 183/183 [00:03<00:00, 45.96it/s]\n",
      "Epoch 2 ended.\n",
      "-- >> End of training phase << --\n",
      "-- >> Start of eval phase << --\n",
      "-- Starting eval on experience 0 (Task 0) from test stream --\n",
      "100%|███████████████████████████████████████████| 34/34 [00:00<00:00, 53.59it/s]\n",
      "> Eval on experience 0 (Task 0) from test stream ended.\n",
      "\tExperienceForgetting/eval_phase/test_stream/Task000/Exp000 = 0.9877\n",
      "\tTop1_Acc_Exp/eval_phase/test_stream/Task000/Exp000 = 0.0000\n",
      "-- Starting eval on experience 1 (Task 0) from test stream --\n",
      "100%|███████████████████████████████████████████| 30/30 [00:00<00:00, 55.58it/s]\n",
      "> Eval on experience 1 (Task 0) from test stream ended.\n",
      "\tTop1_Acc_Exp/eval_phase/test_stream/Task000/Exp001 = 0.9609\n",
      "-- Starting eval on experience 2 (Task 0) from test stream --\n",
      "100%|███████████████████████████████████████████| 32/32 [00:00<00:00, 55.23it/s]\n",
      "> Eval on experience 2 (Task 0) from test stream ended.\n",
      "\tTop1_Acc_Exp/eval_phase/test_stream/Task000/Exp002 = 0.0000\n",
      "-- Starting eval on experience 3 (Task 0) from test stream --\n",
      "100%|███████████████████████████████████████████| 31/31 [00:00<00:00, 55.16it/s]\n",
      "> Eval on experience 3 (Task 0) from test stream ended.\n",
      "\tTop1_Acc_Exp/eval_phase/test_stream/Task000/Exp003 = 0.0000\n",
      "-- Starting eval on experience 4 (Task 0) from test stream --\n",
      "100%|███████████████████████████████████████████| 32/32 [00:00<00:00, 57.39it/s]\n",
      "> Eval on experience 4 (Task 0) from test stream ended.\n",
      "\tTop1_Acc_Exp/eval_phase/test_stream/Task000/Exp004 = 0.0000\n",
      "-- >> End of eval phase << --\n",
      "Current Experience:  2\n",
      "-- >> Start of training phase << --\n",
      "100%|█████████████████████████████████████████| 189/189 [00:03<00:00, 49.07it/s]\n",
      "Epoch 0 ended.\n",
      "100%|█████████████████████████████████████████| 189/189 [00:04<00:00, 44.96it/s]\n",
      "Epoch 1 ended.\n",
      "100%|█████████████████████████████████████████| 189/189 [00:04<00:00, 46.92it/s]\n",
      "Epoch 2 ended.\n",
      "-- >> End of training phase << --\n",
      "-- >> Start of eval phase << --\n",
      "-- Starting eval on experience 0 (Task 0) from test stream --\n",
      "100%|███████████████████████████████████████████| 34/34 [00:00<00:00, 54.06it/s]\n",
      "> Eval on experience 0 (Task 0) from test stream ended.\n",
      "\tExperienceForgetting/eval_phase/test_stream/Task000/Exp000 = 0.9877\n",
      "\tTop1_Acc_Exp/eval_phase/test_stream/Task000/Exp000 = 0.0000\n",
      "-- Starting eval on experience 1 (Task 0) from test stream --\n",
      "100%|███████████████████████████████████████████| 30/30 [00:00<00:00, 51.33it/s]\n",
      "> Eval on experience 1 (Task 0) from test stream ended.\n",
      "\tExperienceForgetting/eval_phase/test_stream/Task000/Exp001 = 0.9609\n",
      "\tTop1_Acc_Exp/eval_phase/test_stream/Task000/Exp001 = 0.0000\n",
      "-- Starting eval on experience 2 (Task 0) from test stream --\n",
      "100%|███████████████████████████████████████████| 32/32 [00:00<00:00, 56.02it/s]\n",
      "> Eval on experience 2 (Task 0) from test stream ended.\n",
      "\tTop1_Acc_Exp/eval_phase/test_stream/Task000/Exp002 = 0.9658\n",
      "-- Starting eval on experience 3 (Task 0) from test stream --\n",
      "100%|███████████████████████████████████████████| 31/31 [00:00<00:00, 51.35it/s]\n",
      "> Eval on experience 3 (Task 0) from test stream ended.\n",
      "\tTop1_Acc_Exp/eval_phase/test_stream/Task000/Exp003 = 0.0000\n",
      "-- Starting eval on experience 4 (Task 0) from test stream --\n",
      "100%|███████████████████████████████████████████| 32/32 [00:00<00:00, 55.24it/s]\n",
      "> Eval on experience 4 (Task 0) from test stream ended.\n",
      "\tTop1_Acc_Exp/eval_phase/test_stream/Task000/Exp004 = 0.0000\n",
      "-- >> End of eval phase << --\n",
      "Current Experience:  3\n",
      "-- >> Start of training phase << --\n",
      "100%|█████████████████████████████████████████| 184/184 [00:03<00:00, 47.86it/s]\n",
      "Epoch 0 ended.\n",
      "100%|█████████████████████████████████████████| 184/184 [00:03<00:00, 48.46it/s]\n",
      "Epoch 1 ended.\n",
      "100%|█████████████████████████████████████████| 184/184 [00:03<00:00, 48.02it/s]\n",
      "Epoch 2 ended.\n",
      "-- >> End of training phase << --\n",
      "-- >> Start of eval phase << --\n",
      "-- Starting eval on experience 0 (Task 0) from test stream --\n",
      "100%|███████████████████████████████████████████| 34/34 [00:00<00:00, 55.53it/s]\n",
      "> Eval on experience 0 (Task 0) from test stream ended.\n",
      "\tExperienceForgetting/eval_phase/test_stream/Task000/Exp000 = 0.9877\n",
      "\tTop1_Acc_Exp/eval_phase/test_stream/Task000/Exp000 = 0.0000\n",
      "-- Starting eval on experience 1 (Task 0) from test stream --\n",
      "100%|███████████████████████████████████████████| 30/30 [00:00<00:00, 51.80it/s]\n",
      "> Eval on experience 1 (Task 0) from test stream ended.\n",
      "\tExperienceForgetting/eval_phase/test_stream/Task000/Exp001 = 0.9609\n",
      "\tTop1_Acc_Exp/eval_phase/test_stream/Task000/Exp001 = 0.0000\n",
      "-- Starting eval on experience 2 (Task 0) from test stream --\n",
      "100%|███████████████████████████████████████████| 32/32 [00:00<00:00, 51.98it/s]\n",
      "> Eval on experience 2 (Task 0) from test stream ended.\n",
      "\tExperienceForgetting/eval_phase/test_stream/Task000/Exp002 = 0.9658\n",
      "\tTop1_Acc_Exp/eval_phase/test_stream/Task000/Exp002 = 0.0000\n",
      "-- Starting eval on experience 3 (Task 0) from test stream --\n",
      "100%|███████████████████████████████████████████| 31/31 [00:00<00:00, 55.77it/s]\n",
      "> Eval on experience 3 (Task 0) from test stream ended.\n",
      "\tTop1_Acc_Exp/eval_phase/test_stream/Task000/Exp003 = 0.9724\n",
      "-- Starting eval on experience 4 (Task 0) from test stream --\n",
      "100%|███████████████████████████████████████████| 32/32 [00:00<00:00, 55.53it/s]\n",
      "> Eval on experience 4 (Task 0) from test stream ended.\n",
      "\tTop1_Acc_Exp/eval_phase/test_stream/Task000/Exp004 = 0.0000\n",
      "-- >> End of eval phase << --\n",
      "Current Experience:  4\n",
      "-- >> Start of training phase << --\n",
      "100%|█████████████████████████████████████████| 186/186 [00:03<00:00, 49.16it/s]\n",
      "Epoch 0 ended.\n",
      "100%|█████████████████████████████████████████| 186/186 [00:03<00:00, 48.53it/s]\n",
      "Epoch 1 ended.\n",
      "100%|█████████████████████████████████████████| 186/186 [00:03<00:00, 48.95it/s]\n",
      "Epoch 2 ended.\n",
      "-- >> End of training phase << --\n",
      "-- >> Start of eval phase << --\n",
      "-- Starting eval on experience 0 (Task 0) from test stream --\n",
      "100%|███████████████████████████████████████████| 34/34 [00:00<00:00, 53.79it/s]\n",
      "> Eval on experience 0 (Task 0) from test stream ended.\n",
      "\tExperienceForgetting/eval_phase/test_stream/Task000/Exp000 = 0.9877\n",
      "\tTop1_Acc_Exp/eval_phase/test_stream/Task000/Exp000 = 0.0000\n",
      "-- Starting eval on experience 1 (Task 0) from test stream --\n"
     ]
    },
    {
     "name": "stdout",
     "output_type": "stream",
     "text": [
      "100%|███████████████████████████████████████████| 30/30 [00:00<00:00, 53.82it/s]\n",
      "> Eval on experience 1 (Task 0) from test stream ended.\n",
      "\tExperienceForgetting/eval_phase/test_stream/Task000/Exp001 = 0.9609\n",
      "\tTop1_Acc_Exp/eval_phase/test_stream/Task000/Exp001 = 0.0000\n",
      "-- Starting eval on experience 2 (Task 0) from test stream --\n",
      "100%|███████████████████████████████████████████| 32/32 [00:00<00:00, 54.22it/s]\n",
      "> Eval on experience 2 (Task 0) from test stream ended.\n",
      "\tExperienceForgetting/eval_phase/test_stream/Task000/Exp002 = 0.9658\n",
      "\tTop1_Acc_Exp/eval_phase/test_stream/Task000/Exp002 = 0.0000\n",
      "-- Starting eval on experience 3 (Task 0) from test stream --\n",
      "100%|███████████████████████████████████████████| 31/31 [00:00<00:00, 52.78it/s]\n",
      "> Eval on experience 3 (Task 0) from test stream ended.\n",
      "\tExperienceForgetting/eval_phase/test_stream/Task000/Exp003 = 0.9724\n",
      "\tTop1_Acc_Exp/eval_phase/test_stream/Task000/Exp003 = 0.0000\n",
      "-- Starting eval on experience 4 (Task 0) from test stream --\n",
      "100%|███████████████████████████████████████████| 32/32 [00:00<00:00, 53.71it/s]\n",
      "> Eval on experience 4 (Task 0) from test stream ended.\n",
      "\tTop1_Acc_Exp/eval_phase/test_stream/Task000/Exp004 = 0.9553\n",
      "-- >> End of eval phase << --\n"
     ]
    }
   ],
   "source": [
    "# begin training and testing\n",
    "\n",
    "results = []\n",
    "for experience in benchmark.train_stream:\n",
    "    print(\"Current Experience: \", experience.current_experience)\n",
    "    cl_strategy.train(experience)\n",
    "    results += [cl_strategy.eval(benchmark.test_stream)]"
   ]
  },
  {
   "cell_type": "code",
   "execution_count": 27,
   "id": "77fd46e0",
   "metadata": {},
   "outputs": [
    {
     "data": {
      "text/plain": [
       "{'Top1_Acc_Exp/eval_phase/test_stream/Task000/Exp000': 0.9877184695323571,\n",
       " 'Top1_Acc_Exp/eval_phase/test_stream/Task000/Exp001': 0.0,\n",
       " 'Top1_Acc_Exp/eval_phase/test_stream/Task000/Exp002': 0.0,\n",
       " 'Top1_Acc_Exp/eval_phase/test_stream/Task000/Exp003': 0.0,\n",
       " 'Top1_Acc_Exp/eval_phase/test_stream/Task000/Exp004': 0.0}"
      ]
     },
     "execution_count": 27,
     "metadata": {},
     "output_type": "execute_result"
    }
   ],
   "source": [
    "results[0]"
   ]
  },
  {
   "cell_type": "code",
   "execution_count": 28,
   "id": "829a215f",
   "metadata": {},
   "outputs": [
    {
     "data": {
      "text/plain": [
       "{'Top1_Acc_Exp/eval_phase/test_stream/Task000/Exp000': 0.0,\n",
       " 'Top1_Acc_Exp/eval_phase/test_stream/Task000/Exp001': 0.9609375,\n",
       " 'Top1_Acc_Exp/eval_phase/test_stream/Task000/Exp002': 0.0,\n",
       " 'Top1_Acc_Exp/eval_phase/test_stream/Task000/Exp003': 0.0,\n",
       " 'Top1_Acc_Exp/eval_phase/test_stream/Task000/Exp004': 0.0,\n",
       " 'ExperienceForgetting/eval_phase/test_stream/Task000/Exp000': 0.9877184695323571}"
      ]
     },
     "execution_count": 28,
     "metadata": {},
     "output_type": "execute_result"
    }
   ],
   "source": [
    "results[1]"
   ]
  },
  {
   "cell_type": "code",
   "execution_count": 29,
   "id": "5d54a59f",
   "metadata": {},
   "outputs": [
    {
     "data": {
      "text/plain": [
       "{'Top1_Acc_Exp/eval_phase/test_stream/Task000/Exp000': 0.0,\n",
       " 'Top1_Acc_Exp/eval_phase/test_stream/Task000/Exp001': 0.0,\n",
       " 'Top1_Acc_Exp/eval_phase/test_stream/Task000/Exp002': 0.9658246656760773,\n",
       " 'Top1_Acc_Exp/eval_phase/test_stream/Task000/Exp003': 0.0,\n",
       " 'Top1_Acc_Exp/eval_phase/test_stream/Task000/Exp004': 0.0,\n",
       " 'ExperienceForgetting/eval_phase/test_stream/Task000/Exp000': 0.9877184695323571,\n",
       " 'ExperienceForgetting/eval_phase/test_stream/Task000/Exp001': 0.9609375}"
      ]
     },
     "execution_count": 29,
     "metadata": {},
     "output_type": "execute_result"
    }
   ],
   "source": [
    "results[2]"
   ]
  },
  {
   "cell_type": "code",
   "execution_count": 30,
   "id": "d73d4ba7",
   "metadata": {},
   "outputs": [
    {
     "data": {
      "text/plain": [
       "{'Top1_Acc_Exp/eval_phase/test_stream/Task000/Exp000': 0.0,\n",
       " 'Top1_Acc_Exp/eval_phase/test_stream/Task000/Exp001': 0.0,\n",
       " 'Top1_Acc_Exp/eval_phase/test_stream/Task000/Exp002': 0.0,\n",
       " 'Top1_Acc_Exp/eval_phase/test_stream/Task000/Exp003': 0.9723643807574207,\n",
       " 'Top1_Acc_Exp/eval_phase/test_stream/Task000/Exp004': 0.0,\n",
       " 'ExperienceForgetting/eval_phase/test_stream/Task000/Exp000': 0.9877184695323571,\n",
       " 'ExperienceForgetting/eval_phase/test_stream/Task000/Exp001': 0.9609375,\n",
       " 'ExperienceForgetting/eval_phase/test_stream/Task000/Exp002': 0.9658246656760773}"
      ]
     },
     "execution_count": 30,
     "metadata": {},
     "output_type": "execute_result"
    }
   ],
   "source": [
    "results[3]"
   ]
  },
  {
   "cell_type": "code",
   "execution_count": 31,
   "id": "df8663a8",
   "metadata": {},
   "outputs": [
    {
     "data": {
      "text/plain": [
       "{'Top1_Acc_Exp/eval_phase/test_stream/Task000/Exp000': 0.0,\n",
       " 'Top1_Acc_Exp/eval_phase/test_stream/Task000/Exp001': 0.0,\n",
       " 'Top1_Acc_Exp/eval_phase/test_stream/Task000/Exp002': 0.0,\n",
       " 'Top1_Acc_Exp/eval_phase/test_stream/Task000/Exp003': 0.0,\n",
       " 'Top1_Acc_Exp/eval_phase/test_stream/Task000/Exp004': 0.9552763819095478,\n",
       " 'ExperienceForgetting/eval_phase/test_stream/Task000/Exp000': 0.9877184695323571,\n",
       " 'ExperienceForgetting/eval_phase/test_stream/Task000/Exp001': 0.9609375,\n",
       " 'ExperienceForgetting/eval_phase/test_stream/Task000/Exp002': 0.9658246656760773,\n",
       " 'ExperienceForgetting/eval_phase/test_stream/Task000/Exp003': 0.9723643807574207}"
      ]
     },
     "execution_count": 31,
     "metadata": {},
     "output_type": "execute_result"
    }
   ],
   "source": [
    "results[4]"
   ]
  },
  {
   "cell_type": "code",
   "execution_count": 32,
   "id": "6be50ae1",
   "metadata": {},
   "outputs": [],
   "source": [
    "# plot results\n",
    "\n",
    "import matplotlib.pyplot as plt\n",
    "import numpy as np\n",
    "\n",
    "acc0 = []\n",
    "acc1 = []\n",
    "acc2 = []\n",
    "acc3 = []\n",
    "acc4 = []\n",
    "\n",
    "for0 = []\n",
    "for1 = []\n",
    "for2 = []\n",
    "for3 = []\n",
    "\n",
    "for a in results:\n",
    "    for b in a:\n",
    "        c = b.split(\"/\")\n",
    "        if (c[0] == \"Top1_Acc_Exp\") and (c[-1]==\"Exp000\"):\n",
    "            acc0 += [a[b]]\n",
    "        elif (c[0] == \"Top1_Acc_Exp\") and (c[-1]==\"Exp001\"):\n",
    "            acc1 += [a[b]]\n",
    "        elif (c[0] == \"Top1_Acc_Exp\") and (c[-1]==\"Exp002\"):\n",
    "            acc2 += [a[b]]\n",
    "        elif (c[0] == \"Top1_Acc_Exp\") and (c[-1]==\"Exp003\"):\n",
    "            acc3 += [a[b]]\n",
    "        elif (c[0] == \"Top1_Acc_Exp\") and (c[-1]==\"Exp004\"):\n",
    "            acc4 += [a[b]]\n",
    "        elif (c[0] == \"ExperienceForgetting\") and (c[-1]==\"Exp000\"):\n",
    "            for0 += [a[b]]\n",
    "        elif (c[0] == \"ExperienceForgetting\") and (c[-1]==\"Exp001\"):\n",
    "            for1 += [a[b]]\n",
    "        elif (c[0] == \"ExperienceForgetting\") and (c[-1]==\"Exp002\"):\n",
    "            for2 += [a[b]]\n",
    "        elif (c[0] == \"ExperienceForgetting\") and (c[-1]==\"Exp003\"):\n",
    "            for3 += [a[b]]\n",
    "\n",
    "acc0 = np.array(acc0)\n",
    "acc1 = np.array(acc1)\n",
    "acc2 = np.array(acc2)\n",
    "acc3 = np.array(acc3)\n",
    "acc4 = np.array(acc4)\n",
    "for0 = np.array(for0)\n",
    "for1 = np.array(for1)\n",
    "for2 = np.array(for2)\n",
    "for3 = np.array(for3)"
   ]
  },
  {
   "cell_type": "code",
   "execution_count": 33,
   "id": "0386acf2",
   "metadata": {},
   "outputs": [],
   "source": [
    "while len(for0) < 5:\n",
    "    for0 = np.concatenate((np.zeros(1), for0))\n",
    "\n",
    "while len(for1) < 5:\n",
    "    for1 = np.concatenate((np.zeros(1), for1))\n",
    "\n",
    "while len(for2) < 5:\n",
    "    for2 = np.concatenate((np.zeros(1), for2))\n",
    "    \n",
    "while len(for3) < 5:\n",
    "    for3 = np.concatenate((np.zeros(1), for3))"
   ]
  },
  {
   "cell_type": "code",
   "execution_count": 34,
   "id": "be7267fa",
   "metadata": {},
   "outputs": [],
   "source": [
    "experience = np.array(range(5))"
   ]
  },
  {
   "cell_type": "code",
   "execution_count": 35,
   "id": "8fc16bdf",
   "metadata": {},
   "outputs": [
    {
     "data": {
      "text/plain": [
       "[[<matplotlib.lines.Line2D at 0x7fe82d1a5dd0>],\n",
       " [<matplotlib.lines.Line2D at 0x7fe82d1b3210>],\n",
       " [<matplotlib.lines.Line2D at 0x7fe82d1b3610>],\n",
       " [<matplotlib.lines.Line2D at 0x7fe82d1b3a10>],\n",
       " [<matplotlib.lines.Line2D at 0x7fe82d1b3e10>],\n",
       " Text(0.5, 0, 'training experience'),\n",
       " ([<matplotlib.axis.XTick at 0x7fe846c88fd0>,\n",
       "   <matplotlib.axis.XTick at 0x7fe82d182090>,\n",
       "   <matplotlib.axis.XTick at 0x7fe846c88710>,\n",
       "   <matplotlib.axis.XTick at 0x7fe82d1bd350>,\n",
       "   <matplotlib.axis.XTick at 0x7fe82d1bd750>],\n",
       "  [Text(0, 0, ''),\n",
       "   Text(0, 0, ''),\n",
       "   Text(0, 0, ''),\n",
       "   Text(0, 0, ''),\n",
       "   Text(0, 0, '')]),\n",
       " Text(0, 0.5, 'experience testing accuracy'),\n",
       " <matplotlib.legend.Legend at 0x7fe82d1bd3d0>,\n",
       " Text(0.5, 1.0, 'Testing Accuracy')]"
      ]
     },
     "execution_count": 35,
     "metadata": {},
     "output_type": "execute_result"
    },
    {
     "data": {
      "image/png": "[encoded data removed]",
      "text/plain": [
       "<Figure size 432x288 with 1 Axes>"
      ]
     },
     "metadata": {
      "needs_background": "light"
     },
     "output_type": "display_data"
    }
   ],
   "source": [
    "[plt.plot(experience, acc0, label='exp0'),\n",
    " plt.plot(experience, acc1, label='exp1'),\n",
    " plt.plot(experience, acc2, label='exp2'),\n",
    " plt.plot(experience, acc3, label='exp3'),\n",
    " plt.plot(experience, acc4, label='exp4'),\n",
    " plt.xlabel(\"training experience\"), \n",
    " plt.xticks([0,1,2,3,4]),\n",
    " plt.ylabel(\"experience testing accuracy\"),\n",
    " plt.figlegend(),\n",
    " plt.title(\"Testing Accuracy\")\n",
    "]"
   ]
  },
  {
   "cell_type": "code",
   "execution_count": 36,
   "id": "2797d1c9",
   "metadata": {},
   "outputs": [
    {
     "data": {
      "text/plain": [
       "[[<matplotlib.lines.Line2D at 0x7fe82d10cb50>],\n",
       " [<matplotlib.lines.Line2D at 0x7fe82d10cf50>],\n",
       " [<matplotlib.lines.Line2D at 0x7fe82d119390>],\n",
       " [<matplotlib.lines.Line2D at 0x7fe82d119790>],\n",
       " Text(0.5, 0, 'training experience'),\n",
       " ([<matplotlib.axis.XTick at 0x7fe82d1cc490>,\n",
       "   <matplotlib.axis.XTick at 0x7fe82d1cc690>,\n",
       "   <matplotlib.axis.XTick at 0x7fe82d166f50>,\n",
       "   <matplotlib.axis.XTick at 0x7fe82d129110>,\n",
       "   <matplotlib.axis.XTick at 0x7fe82d129650>],\n",
       "  [Text(0, 0, ''),\n",
       "   Text(0, 0, ''),\n",
       "   Text(0, 0, ''),\n",
       "   Text(0, 0, ''),\n",
       "   Text(0, 0, '')]),\n",
       " Text(0, 0.5, 'experience forgetting'),\n",
       " <matplotlib.legend.Legend at 0x7fe82d1296d0>,\n",
       " Text(0.5, 1.0, 'Forgetting score')]"
      ]
     },
     "execution_count": 36,
     "metadata": {},
     "output_type": "execute_result"
    },
    {
     "data": {
      "image/png": "[encoded data removed]",
      "text/plain": [
       "<Figure size 432x288 with 1 Axes>"
      ]
     },
     "metadata": {
      "needs_background": "light"
     },
     "output_type": "display_data"
    }
   ],
   "source": [
    "[plt.plot(experience, for0, label='exp0'),\n",
    " plt.plot(experience, for1, label='exp1'),\n",
    " plt.plot(experience, for2, label='exp2'),\n",
    " plt.plot(experience, for3, label='exp3'),\n",
    " plt.xlabel(\"training experience\"), \n",
    " plt.xticks([0,1,2,3,4]),\n",
    " plt.ylabel(\"experience forgetting\"),\n",
    " plt.figlegend(),\n",
    " plt.title(\"Forgetting score\")\n",
    "]"
   ]
  }
 ],
 "metadata": {
  "kernelspec": {
   "display_name": "Python 3 (ipykernel)",
   "language": "python",
   "name": "python3"
  },
  "language_info": {
   "codemirror_mode": {
    "name": "ipython",
    "version": 3
   },
   "file_extension": ".py",
   "mimetype": "text/x-python",
   "name": "python",
   "nbconvert_exporter": "python",
   "pygments_lexer": "ipython3",
   "version": "3.7.11"
  }
 },
 "nbformat": 4,
 "nbformat_minor": 5
}
